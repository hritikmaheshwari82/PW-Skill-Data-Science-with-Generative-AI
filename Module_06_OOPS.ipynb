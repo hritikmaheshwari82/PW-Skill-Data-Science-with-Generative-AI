{
  "nbformat": 4,
  "nbformat_minor": 0,
  "metadata": {
    "colab": {
      "provenance": []
    },
    "kernelspec": {
      "name": "python3",
      "display_name": "Python 3"
    },
    "language_info": {
      "name": "python"
    }
  },
  "cells": [
    {
      "cell_type": "markdown",
      "source": [
        "# Python OOPs Questions"
      ],
      "metadata": {
        "id": "VZsliNhHahqv"
      }
    },
    {
      "cell_type": "markdown",
      "source": [
        "**Q1. What is Object-Oriented Programming (OOP)?**\n",
        "\n",
        "Object-Oriented Programming (OOP) is a programming paradigm that structures software design around data, or objects, rather than functions and logic. It uses objects, which combine data (attributes) and methods (functions) that operate on that data, to model real-world entities. OOP promotes reusability, and easier maintenance of code through concepts like classes, inheritance, and polymorphism.\n",
        "\n",
        "**Q2. What is a class in OOP?**\n",
        "\n",
        "A class is a blueprint or template for creating objects. It defines attributes and methods that the created objects (instances) will have.\n",
        "\n",
        "**Q3. What is an object in OOP?**\n",
        "\n",
        "An object is an instance of a class. It represents a specific implementation of the class blueprint.\n",
        "\n",
        "**Q4. What is the difference between abstraction and encapsulation?**\n",
        "\n",
        "Abstraction hides complexity by showing only essential features and hiding the implementation details.\n",
        "\n",
        "Encapsulation binds data and methods into a single unit (class) and restricts direct access to some components.\n",
        "\n",
        "**Q5. What are dunder methods in Python?**\n",
        "\n",
        "Dunder methods (short for \"double underscore\") are special methods in Python with names like __init__, __str__, __len__, etc. They enable operator overloading and object customization.\n",
        "\n",
        "**Q6. Explain the concept of inheritance in OOP.**\n",
        "\n",
        "Inheritance allows a class (child) to inherit attributes and methods from another class (parent), enabling code reusability.\n",
        "\n",
        "**Q7. What is polymorphism in OOP?**\n",
        "\n",
        "It allows objects of different classes to be treated as objects of a common type.\n",
        "\n",
        "**Q8. How is encapsulation achieved in Python?**\n",
        "\n",
        "Using classes to group related data and methods.\n",
        "\n",
        "Making attributes private using a single underscore _ (protected) or double underscore __ (private).\n",
        "\n",
        "Providing getter and setter methods to control access.\n",
        "\n",
        "**Q9. What is a constructor in Python?**\n",
        "\n",
        "A constructor is a special method called __init__() used to initialize the object's attributes when the object is created.\n",
        "\n",
        "**Q10. What are class and static methods in Python?**\n",
        "\n",
        "Class Method: Uses @classmethod decorator and takes cls as the first argument. It can modify class state.\n",
        "\n",
        "Static Method: Uses @staticmethod decorator. It doesn't access self or cls. Used for utility functions.\n",
        "\n",
        "**Q11. What is method overloading in Python?**\n",
        "\n",
        "Python does not support traditional method overloading (same method name, different parameters). But it can be mimicked using default or variable-length arguments.\n",
        "\n",
        "**Q12. What is method overriding in OOP?**\n",
        "\n",
        "Method overriding occurs when a child class provides a new implementation for a method inherited from the parent class.\n",
        "\n",
        "**Q13. What is a property decorator in Python?**\n",
        "\n",
        "The @property decorator is used to create read-only or managed attributes. It allows you to access methods like attributes.\n",
        "\n",
        "**Q14. Why is polymorphism important in OOP?**\n",
        "\n",
        "Polymorphism enables one interface to be used for different types of objects, improving flexibility and maintainability in code.\n",
        "\n",
        "Promotes code reusability.\n",
        "\n",
        "Simplifies function and class interfaces.\n",
        "\n",
        "Supports open/closed principle (open for extension, closed for modification).\n",
        "\n",
        "**Q15. What is an abstract class in Python?**\n",
        "\n",
        "An abstract class in Python is a class that cannot be instantiated directly and is used as a base class. It is defined using the abc module and contains at least one abstract method.\n",
        "\n",
        "**Q16. What are the advantages of OOP?**\n",
        "\n",
        "Object-Oriented Programming offers several benefits:\n",
        "\n",
        "Modularity – Code is organized into objects/classes.\n",
        "\n",
        "Reusability – Inheritance allows code to be reused across multiple classes.\n",
        "\n",
        "Scalability – Easier to manage and scale large programs.\n",
        "\n",
        "Maintainability – Code is easier to understand and modify.\n",
        "\n",
        "Encapsulation – Protects internal object data from unintended changes.\n",
        "\n",
        "Abstraction – Hides complex implementation details and exposes only the necessary parts.\n",
        "\n",
        "Polymorphism – Promotes flexibility by allowing the same interface for different data types.\n",
        "\n",
        "**Q17. What is the difference between a class variable and an instance variable?**\n",
        "\n",
        "Class variables and instance variables differ in their scope and how they are accessed. Class variables are shared among all instances of a class, while instance variables are unique to each object (instance) of a class\n",
        "\n",
        "**Q18. What is multiple inheritance in Python?**\n",
        "\n",
        "Multiple inheritance allows a class to inherit from more than one parent class and python uses Method Resolution Order (MRO) to decide which parent method to use when there are conflicts.\n",
        "\n",
        "**Q19. Explain the purpose of `__str__` and `__repr__` methods in Python.**\n",
        "\n",
        "`__str__()`: Defines the human-readable string representation (used by print()).\n",
        "\n",
        "`__repr__()`: Defines the developer/debugging-friendly representation (used by repr() or in the console).\n",
        "\n",
        "**Q20. What is the significance of the `super()` function in Python?**\n",
        "\n",
        "super() is used to call a method from the parent class. It’s especially useful in inheritance to avoid repeating code and to ensure proper method resolution order.\n",
        "\n",
        "**Q21. What is the significance of the `__del__` method in Python?**\n",
        "\n",
        "The `__del__` method is a destructor in Python. It is called when an object is about to be destroyed (garbage collected).\n",
        "\n",
        "**Q22. What is the difference between `@staticmethod` and `@classmethod` in Python?**\n",
        "\n",
        "The primary difference between @staticmethod and @classmethod in Python lies in how they interact with the class and its instances:\n",
        "\n",
        "-  @classmethod:\n",
        "\n",
        "Takes the class itself as its first implicit argument, conventionally named cls.\n",
        "\n",
        "Can access and modify class-level attributes and call other class methods.\n",
        "\n",
        "Often used for factory methods that create instances of the class or its subclasses, or for methods that operate on class-level data.\n",
        "\n",
        "- @staticmethod:\n",
        "\n",
        "Does not take any implicit first argument (neither self nor cls).\n",
        "\n",
        "Behaves like a regular function but is logically grouped within a class.\n",
        "\n",
        "Cannot access or modify class or instance state directly.\n",
        "\n",
        "Typically used for utility functions that are related to the class but do not require access to class or instance-specific data.\n",
        "\n",
        "\n",
        "\n",
        "**Q23. How does polymorphism work in Python with inheritance?**\n",
        "\n",
        "Polymorphism allows a child class to override methods from a parent class, and the method call is resolved at runtime.\n",
        "\n",
        "**Q24. What is method chaining in Python OOP?**\n",
        "\n",
        "Method chaining allows you to call multiple methods on the same object in a single line, by returning self from each method.\n",
        "\n",
        "**Q25. What is the purpose of the `__call__` method in Python?**\n",
        "\n",
        "The __call__ method allows an instance of a class to be called like a function.\n",
        "\n",
        "Use Cases:\n",
        "\n",
        "Creating callable objects\n",
        "\n",
        "Replacing simple functions with objects that carry state\n"
      ],
      "metadata": {
        "id": "zpxiUSMOajmp"
      }
    },
    {
      "cell_type": "markdown",
      "source": [
        "# Practical Questions"
      ],
      "metadata": {
        "id": "-7BS6KcLbAsk"
      }
    },
    {
      "cell_type": "code",
      "source": [
        "#Q1- Create a parent class Animal with a method speak() that prints a generic message. Create a child class Dog that overrides the speak() method to print \"Bark!\".\n",
        "\n",
        "class Animal:\n",
        "    def speak(self):\n",
        "        print(\"Sound\")\n",
        "\n",
        "class Dog(Animal):\n",
        "    def speak(self):\n",
        "        print(\"Bark!\")"
      ],
      "metadata": {
        "id": "4WVfQ47FbJv7"
      },
      "execution_count": null,
      "outputs": []
    },
    {
      "cell_type": "code",
      "source": [
        "#Example Usage\n",
        "\n",
        "obj = Animal()\n",
        "obj.speak()\n",
        "\n",
        "obj1 = Dog()\n",
        "obj1.speak()\n"
      ],
      "metadata": {
        "colab": {
          "base_uri": "https://localhost:8080/"
        },
        "id": "imkjxhrDb1--",
        "outputId": "3b672aae-de01-46a9-f958-f84be14e49f6"
      },
      "execution_count": null,
      "outputs": [
        {
          "output_type": "stream",
          "name": "stdout",
          "text": [
            "Sound\n",
            "Bark!\n"
          ]
        }
      ]
    },
    {
      "cell_type": "code",
      "source": [
        "#Q2- Write a program to create an abstract class Shape with a method area(). Derive classes Circle and Rectangle from it and implement the area() method in both.\n",
        "\n",
        "import abc\n",
        "\n",
        "class Shape:\n",
        "\n",
        "    @abc.abstractmethod\n",
        "    def area(self):\n",
        "        pass\n"
      ],
      "metadata": {
        "id": "bEKHgrAscBJW"
      },
      "execution_count": null,
      "outputs": []
    },
    {
      "cell_type": "code",
      "source": [
        "class Circle(Shape):\n",
        "    def __init__(self, radius):\n",
        "        self.radius = radius\n",
        "\n",
        "    def area(self):\n",
        "        return 3.14*self.radius*self.radius\n",
        "\n",
        "class Rectangle(Shape):\n",
        "    def __init__(self, a, b):\n",
        "        self.a = a\n",
        "        self.b = b\n",
        "    def area(self):\n",
        "        return self.a*self.b\n"
      ],
      "metadata": {
        "id": "YtnO1Ff8eT32"
      },
      "execution_count": null,
      "outputs": []
    },
    {
      "cell_type": "code",
      "source": [
        "#Example Usage\n",
        "obj = Circle(5)\n",
        "print(\"Circle area\", obj.area())\n",
        "obj1 = Rectangle(3,4)\n",
        "print(\"Rectangle\", obj1.area())"
      ],
      "metadata": {
        "colab": {
          "base_uri": "https://localhost:8080/"
        },
        "id": "wYEKyqLgfINr",
        "outputId": "8ca055fa-02ce-4779-81d3-914df6cc1763"
      },
      "execution_count": null,
      "outputs": [
        {
          "output_type": "stream",
          "name": "stdout",
          "text": [
            "Circle area 78.5\n",
            "Rectangle 12\n"
          ]
        }
      ]
    },
    {
      "cell_type": "code",
      "source": [
        "#Q3-  Implement a multi-level inheritance scenario where a class Vehicle has an attribute type. Derive a class Car and further derive a class ElectricCar that adds a battery attribute.\n",
        "\n",
        "class Vehicle:\n",
        "    def __init__(self, vehicle_type):\n",
        "        self.vehicle_type = vehicle_type\n",
        "\n",
        "    def vehicle_info(self):\n",
        "        print(f\"Vehicle type is {self.vehicle_type}\")\n",
        "\n",
        "class Car(Vehicle):\n",
        "    def __init__(self, vehicle_type, brand):\n",
        "        super().__init__(vehicle_type)\n",
        "        self.brand = brand\n",
        "    def car_info(self):\n",
        "        print(f\"Vehicle type is {self.vehicle_type}, brand is {self.brand}\")\n",
        "\n",
        "class ElectricCar(Car):\n",
        "    def __init__(self, vehicle_type, brand, battery):\n",
        "        super().__init__(vehicle_type, brand)\n",
        "        self.battery = battery\n",
        "    def ElectricCar_info(self):\n",
        "        print(f\"\")\n",
        "\n"
      ],
      "metadata": {
        "id": "9-7I1RK8fw6p"
      },
      "execution_count": null,
      "outputs": []
    },
    {
      "cell_type": "code",
      "source": [
        "#Q3-  Implement a multi-level inheritance scenario where a class Vehicle has an attribute type. Derive a class Car and further derive a class ElectricCar that adds a battery attribute.\n",
        "\n",
        "class Vehicle:\n",
        "    def __init__(self, vehicle_type):\n",
        "        self.vehicle_type = vehicle_type\n",
        "\n",
        "    def vehicle_info(self):\n",
        "        print(f\"Vehicle type is {self.vehicle_type}\")\n",
        "\n",
        "class Car(Vehicle):\n",
        "    def __init__(self, vehicle_type, brand):\n",
        "        super().__init__(vehicle_type)\n",
        "        self.brand = brand\n",
        "    def car_info(self):\n",
        "        print(f\"Vehicle type is {self.vehicle_type}, brand is {self.brand}\")\n",
        "\n",
        "class ElectricCar(Car):\n",
        "    def __init__(self, vehicle_type, brand, battery):\n",
        "        super().__init__(vehicle_type, brand)\n",
        "        self.battery = battery\n",
        "    def ElectricCar_info(self):\n",
        "        print(f\"\")\n",
        "\n"
      ],
      "metadata": {
        "id": "eS2TXeTi3aR1"
      },
      "execution_count": null,
      "outputs": []
    },
    {
      "cell_type": "code",
      "source": [
        "#Q3-  Implement a multi-level inheritance scenario where a class Vehicle has an attribute type. Derive a class Car and further derive a class ElectricCar that adds a battery attribute.\n",
        "\n",
        "class Vehicle:\n",
        "    def __init__(self, vehicle_type):\n",
        "        self.vehicle_type = vehicle_type\n",
        "\n",
        "    def vehicle_info(self):\n",
        "        print(f\"Vehicle type is {self.vehicle_type}\")\n",
        "\n",
        "class Car(Vehicle):\n",
        "    def __init__(self, vehicle_type, brand):\n",
        "        super().__init__(vehicle_type)\n",
        "        self.brand = brand\n",
        "    def car_info(self):\n",
        "        print(f\"Vehicle type is {self.vehicle_type}, brand is {self.brand}\")\n",
        "\n",
        "class ElectricCar(Car):\n",
        "    def __init__(self, vehicle_type, brand, battery):\n",
        "        super().__init__(vehicle_type, brand)\n",
        "        self.battery = battery\n",
        "    def ElectricCar_info(self):\n",
        "        print(f\"Vehicle type is {self.vehicle_type}, brand is {self.brand},batter capacity is {self.battery}kwh\")\n",
        "\n"
      ],
      "metadata": {
        "id": "NQBG3M7R3bS3"
      },
      "execution_count": null,
      "outputs": []
    },
    {
      "cell_type": "code",
      "source": [
        "#Example Usage\n",
        "\n",
        "a = ElectricCar(\"Four Wheeler\", \"Ferrari\", \"80\")\n",
        "a.vehicle_info()\n",
        "a.car_info()\n",
        "a.ElectricCar_info()"
      ],
      "metadata": {
        "colab": {
          "base_uri": "https://localhost:8080/"
        },
        "id": "1WI9ldYf3nfm",
        "outputId": "872cc40b-a379-48a3-9d8e-ab9389b8cffb"
      },
      "execution_count": null,
      "outputs": [
        {
          "output_type": "stream",
          "name": "stdout",
          "text": [
            "Vehicle type is Four Wheeler\n",
            "Vehicle type is Four Wheeler, brand is Ferrari\n",
            "Vehicle type is Four Wheeler, brand is Ferrari,batter capacity is 80kwh\n"
          ]
        }
      ]
    },
    {
      "cell_type": "code",
      "source": [
        "#Q4- Demonstrate polymorphism by creating a base class Bird with a method fly(). Create two derived classes Sparrow and Penguin that override the fly() method.\n",
        "\n",
        "class Bird:\n",
        "    def fly(self):\n",
        "        print(\"Bird fly\")\n",
        "class Sparrow(Bird):\n",
        "    def fly(self):\n",
        "        print(\"Sparrow fly\")\n",
        "class Penguin(Bird):\n",
        "    def fly(self):\n",
        "        print(\"Penguin fly\")"
      ],
      "metadata": {
        "id": "sC_6-gCF37o_"
      },
      "execution_count": null,
      "outputs": []
    },
    {
      "cell_type": "code",
      "source": [
        "#Example Usage\n",
        "\n",
        "birds = [Sparrow(), Penguin()]\n",
        "for i in birds:\n",
        "    i.fly()"
      ],
      "metadata": {
        "colab": {
          "base_uri": "https://localhost:8080/"
        },
        "id": "sORDItTLF19a",
        "outputId": "7a180ad5-28c1-42e6-9fb4-6f93fff39ab6"
      },
      "execution_count": null,
      "outputs": [
        {
          "output_type": "stream",
          "name": "stdout",
          "text": [
            "Sparrow fly\n",
            "Penguin fly\n"
          ]
        }
      ]
    },
    {
      "cell_type": "code",
      "source": [
        "#Q5- Write a program to demonstrate encapsulation by creating a class BankAccount with private attributes balance and methods to deposit, withdraw, and check balance.\n",
        "\n",
        "class BankAccount:\n",
        "    def __init__(self, balance):\n",
        "        self.__balance = balance\n",
        "\n",
        "    def deposit(self, amount):\n",
        "        self.amount = amount\n",
        "        self.__balance = self.__balance + amount\n",
        "\n",
        "    def withdraw(self, amount):\n",
        "        self.amount = amount\n",
        "        if self.__balance >= amount:\n",
        "            self.__balance = self.__balance - amount\n",
        "            return True\n",
        "        else:\n",
        "            return False\n",
        "\n",
        "    def get_balance(self):\n",
        "        return self.__balance\n",
        "\n",
        "\n"
      ],
      "metadata": {
        "id": "P5i-pSdyG3Na"
      },
      "execution_count": null,
      "outputs": []
    },
    {
      "cell_type": "code",
      "source": [
        "a = BankAccount(2500)\n",
        "a.get_balance()"
      ],
      "metadata": {
        "colab": {
          "base_uri": "https://localhost:8080/"
        },
        "id": "7MNar8ZuJEUP",
        "outputId": "5b797cc6-fd95-438d-d751-442356111c47"
      },
      "execution_count": null,
      "outputs": [
        {
          "output_type": "execute_result",
          "data": {
            "text/plain": [
              "2500"
            ]
          },
          "metadata": {},
          "execution_count": 55
        }
      ]
    },
    {
      "cell_type": "code",
      "source": [
        "a.deposit(500)\n",
        "a.get_balance()"
      ],
      "metadata": {
        "colab": {
          "base_uri": "https://localhost:8080/"
        },
        "id": "pz1Afj80JJw2",
        "outputId": "506cf986-5411-4337-e354-0056ea4acb94"
      },
      "execution_count": null,
      "outputs": [
        {
          "output_type": "execute_result",
          "data": {
            "text/plain": [
              "3000"
            ]
          },
          "metadata": {},
          "execution_count": 56
        }
      ]
    },
    {
      "cell_type": "code",
      "source": [
        "a.withdraw(1000)\n",
        "a.get_balance()\n"
      ],
      "metadata": {
        "colab": {
          "base_uri": "https://localhost:8080/"
        },
        "id": "EsBVs9lTJi72",
        "outputId": "3fb354fd-a138-42e5-b076-9bf08abab9dd"
      },
      "execution_count": null,
      "outputs": [
        {
          "output_type": "execute_result",
          "data": {
            "text/plain": [
              "2000"
            ]
          },
          "metadata": {},
          "execution_count": 57
        }
      ]
    },
    {
      "cell_type": "code",
      "source": [
        "#Q6 - Demonstrate runtime polymorphism using a method play() in a base class Instrument. Derive classes Guitar and Piano that implement their own version of play().\n",
        "\n",
        "class Instrument:\n",
        "    def play(self):\n",
        "        print(\"This is an instrument\")\n",
        "class Guitar(Instrument):\n",
        "    def play(self):\n",
        "        print(\"Guitaur Sound\")\n",
        "class Piano(Instrument):\n",
        "    def play(self):\n",
        "        print(\"Piano Sound\")\n"
      ],
      "metadata": {
        "id": "Cswqv1EJJuD4"
      },
      "execution_count": null,
      "outputs": []
    },
    {
      "cell_type": "code",
      "source": [
        "sound = [Guitar(), Piano()]\n",
        "for i in sound:\n",
        "    i.play()"
      ],
      "metadata": {
        "colab": {
          "base_uri": "https://localhost:8080/"
        },
        "id": "zb-TeFuXVQzd",
        "outputId": "2b35e8d4-e829-410c-be7a-27561c882eca"
      },
      "execution_count": null,
      "outputs": [
        {
          "output_type": "stream",
          "name": "stdout",
          "text": [
            "Guitaur Sound\n",
            "Piano Sound\n"
          ]
        }
      ]
    },
    {
      "cell_type": "code",
      "source": [
        "#Q7-  Create a class MathOperations with a class method add_numbers() to add two numbers and a static method subtract_numbers() to subtract two numbers.\n",
        "\n",
        "class MathOperations:\n",
        "    @classmethod\n",
        "    def add_numbers(cls, x, y):\n",
        "        return x + y\n",
        "\n",
        "    @staticmethod\n",
        "    def subtract_numbers(x, y):\n",
        "        return x-y\n",
        "\n"
      ],
      "metadata": {
        "id": "PFmVhjZNVgyz"
      },
      "execution_count": null,
      "outputs": []
    },
    {
      "cell_type": "code",
      "source": [
        "print(\"Addition:\", MathOperations.add_numbers(3,2))\n",
        "print(\"Subtraction\", MathOperations.subtract_numbers(3,2))"
      ],
      "metadata": {
        "colab": {
          "base_uri": "https://localhost:8080/"
        },
        "id": "FmgbBgVqX7cM",
        "outputId": "08fe22f0-c7db-415d-c2e6-f2667467cac3"
      },
      "execution_count": null,
      "outputs": [
        {
          "output_type": "stream",
          "name": "stdout",
          "text": [
            "Addition: 5\n",
            "Subtraction 1\n"
          ]
        }
      ]
    },
    {
      "cell_type": "code",
      "source": [
        "#Q8- Implement a class Person with a class method to count the total number of persons created.\n",
        "\n",
        "class Person:\n",
        "    total_students = 0\n",
        "    def __init__(self, name):\n",
        "        Person.total_students += 1\n",
        "    @classmethod\n",
        "    def count(cls):\n",
        "        return cls.total_students"
      ],
      "metadata": {
        "id": "GpdqtX5vYs6e"
      },
      "execution_count": 110,
      "outputs": []
    },
    {
      "cell_type": "code",
      "source": [
        "count1 = Person(\"Ajay\")\n",
        "count2 = Person(\"Bijay\")\n",
        "Person.count()"
      ],
      "metadata": {
        "colab": {
          "base_uri": "https://localhost:8080/"
        },
        "id": "XzQp0v-JaQwW",
        "outputId": "3df5d210-4f64-41de-a69a-2ea5223e67a1"
      },
      "execution_count": 111,
      "outputs": [
        {
          "output_type": "execute_result",
          "data": {
            "text/plain": [
              "2"
            ]
          },
          "metadata": {},
          "execution_count": 111
        }
      ]
    },
    {
      "cell_type": "code",
      "source": [
        "#Q9-  Write a class Fraction with attributes numerator and denominator. Override the str method to display the fraction as \"numerator/denominator\".\n",
        "\n",
        "class Fraction:\n",
        "    def __init__(self, numerator, denominator):\n",
        "        self.numerator = numerator\n",
        "        self.denominator = denominator\n",
        "\n",
        "    def __str__(self):\n",
        "        return f\"{self.numerator}/{self.denominator}\"\n"
      ],
      "metadata": {
        "id": "Katskh2La3KW"
      },
      "execution_count": null,
      "outputs": []
    },
    {
      "cell_type": "code",
      "source": [
        "frac = Fraction(5, 10)\n",
        "print(frac)"
      ],
      "metadata": {
        "colab": {
          "base_uri": "https://localhost:8080/"
        },
        "id": "mX8O9F4Ybu9C",
        "outputId": "c36cae2a-bcfe-4881-a334-ea85641f20b9"
      },
      "execution_count": null,
      "outputs": [
        {
          "output_type": "stream",
          "name": "stdout",
          "text": [
            "5/10\n"
          ]
        }
      ]
    },
    {
      "cell_type": "code",
      "source": [
        "#Q10- Demonstrate operator overloading by creating a class Vector and overriding the add method to add two vectors.\n",
        "\n",
        "class Vector:\n",
        "    def __init__(self, x, y):\n",
        "        self.x = x\n",
        "        self.y = y\n",
        "\n",
        "    def __add__(self, other):\n",
        "        return (self.x + other.x, self.y + other.y)\n",
        "\n",
        "    #display the vector in x,y format\n",
        "    def __str__(self):\n",
        "        return f\"{self.x},{self.y}\"\n",
        "\n",
        "\n"
      ],
      "metadata": {
        "id": "IWixFcuedU8k"
      },
      "execution_count": null,
      "outputs": []
    },
    {
      "cell_type": "code",
      "source": [
        "v1 = Vector(2,3)\n",
        "v2 = Vector(4,5)\n",
        "v3 = v1 + v2\n",
        "print(\"add vector:\",v3)\n",
        "print(\"Vector1:\",v1)\n",
        "print(\"Vector2:\",v2)\n"
      ],
      "metadata": {
        "colab": {
          "base_uri": "https://localhost:8080/"
        },
        "id": "nGhiHnIxsUa6",
        "outputId": "a9926787-7cf7-41e2-85ac-a1b6c65f9863"
      },
      "execution_count": null,
      "outputs": [
        {
          "output_type": "stream",
          "name": "stdout",
          "text": [
            "add vector: (6, 8)\n",
            "Vector1: 2,3\n",
            "Vector2: 4,5\n"
          ]
        }
      ]
    },
    {
      "cell_type": "code",
      "source": [
        "#Q11- Create a class Person with attributes name and age. Add a method greet() that prints \"Hello, my name is {name} and I am {age} years old.\"\n",
        "\n",
        "class Person:\n",
        "    def __init__(self, name , age):\n",
        "        self.name = name\n",
        "        self.age = age\n",
        "\n",
        "    def greet(self):\n",
        "        print(f\"Hello, my name is {self.name} and I am {self.age} years old.\")\n"
      ],
      "metadata": {
        "id": "wilZNDGjsmHV"
      },
      "execution_count": null,
      "outputs": []
    },
    {
      "cell_type": "code",
      "source": [
        "obj = Person(\"Hritik\", 25)\n",
        "obj.greet()"
      ],
      "metadata": {
        "colab": {
          "base_uri": "https://localhost:8080/"
        },
        "id": "ww5tkwOjuSRp",
        "outputId": "40c57feb-8ca0-483c-9e31-9a7f3ad1b5f8"
      },
      "execution_count": null,
      "outputs": [
        {
          "output_type": "stream",
          "name": "stdout",
          "text": [
            "Hello, my name is Hritik and I am 25 years old.\n"
          ]
        }
      ]
    },
    {
      "cell_type": "code",
      "source": [
        "#Q12- Implement a class Student with attributes name and grades. Create a method average_grade() to compute the average of the grades.\n",
        "\n",
        "class Student:\n",
        "    def __init__(self, name, grades):\n",
        "        self.name = name\n",
        "        self.grades = grades\n",
        "\n",
        "    def average_grade(self):\n",
        "        if len(self.grades) == 0:\n",
        "            return 0\n",
        "        else:\n",
        "            return sum(self.grades)/len(self.grades)\n",
        "\n",
        "\n",
        "\n"
      ],
      "metadata": {
        "id": "aynHZKQCumfv"
      },
      "execution_count": 112,
      "outputs": []
    },
    {
      "cell_type": "code",
      "source": [
        "avg = Student(\"Hritik\", [70,83,92,87,86])\n",
        "avg.average_grade()\n"
      ],
      "metadata": {
        "colab": {
          "base_uri": "https://localhost:8080/"
        },
        "id": "i2FbkXvJ0lt2",
        "outputId": "b85efdd2-59f9-4e2d-ac6b-7629679a4abe"
      },
      "execution_count": 113,
      "outputs": [
        {
          "output_type": "execute_result",
          "data": {
            "text/plain": [
              "83.6"
            ]
          },
          "metadata": {},
          "execution_count": 113
        }
      ]
    },
    {
      "cell_type": "code",
      "source": [
        "#Q13-  Create a class Rectangle with methods set_dimensions() to set the dimensions and area() to calculate the area.\n",
        "\n",
        "class Rectangle:\n",
        "    def __init__(self):\n",
        "        self.a = 0\n",
        "        self.b = 0\n",
        "    def set_dimensions(self, a, b):\n",
        "        self.a = a\n",
        "        self.b = b\n",
        "\n",
        "    def area(self):\n",
        "        return self.a*self.b"
      ],
      "metadata": {
        "id": "2csAOWQ607tw"
      },
      "execution_count": 118,
      "outputs": []
    },
    {
      "cell_type": "code",
      "source": [
        "result = Rectangle()\n",
        "result.set_dimensions(4, 5)\n",
        "print(\"Area of rectangle is:\", result.area())"
      ],
      "metadata": {
        "colab": {
          "base_uri": "https://localhost:8080/"
        },
        "id": "8SPnu6gP2UBn",
        "outputId": "60d3a018-8ce3-45c1-b0f6-69faf533f73a"
      },
      "execution_count": 119,
      "outputs": [
        {
          "output_type": "stream",
          "name": "stdout",
          "text": [
            "Area of rectangle is: 20\n"
          ]
        }
      ]
    },
    {
      "cell_type": "code",
      "source": [
        "#Q14-  Create a class Employee with a method calculate_salary() that computes the salary based on hours worked and hourly rate. Create a derived class Manager that adds a bonus to the salary.\n",
        "\n",
        "class Employee:\n",
        "    def __init__(self, hours_worked, hourly_rate):\n",
        "        self.hours_worked = hours_worked\n",
        "        self.hourly_rate = hourly_rate\n",
        "\n",
        "    def calculate_salary(self):\n",
        "        return self.hours_worked*self.hourly_rate\n",
        "\n",
        "class Manager(Employee):\n",
        "    def __init__(self,hours_worked,hourly_rate, bonus):\n",
        "        super().__init__(hours_worked, hourly_rate)\n",
        "        self.bonus = bonus\n",
        "\n",
        "    def calculate_salary(self):\n",
        "        base_salary = super().calculate_salary()\n",
        "        return base_salary + self.bonus\n",
        "\n",
        "\n"
      ],
      "metadata": {
        "id": "znpbPreD5U1i"
      },
      "execution_count": 142,
      "outputs": []
    },
    {
      "cell_type": "code",
      "source": [
        "emp = Employee(4, 90)\n",
        "print(f\"Employee Salary:{emp.calculate_salary()}\")\n",
        "mng = Manager(4, 90, 500)\n",
        "print(f\"Salary after bonus:{mng.calculate_salary()}\")\n",
        "\n"
      ],
      "metadata": {
        "colab": {
          "base_uri": "https://localhost:8080/"
        },
        "id": "aVuGxzNnBJBT",
        "outputId": "d4c4eac8-8905-42f3-d73f-9788e99a7a5a"
      },
      "execution_count": 144,
      "outputs": [
        {
          "output_type": "stream",
          "name": "stdout",
          "text": [
            "Employee Salary:360\n",
            "Salary after bonus:360\n"
          ]
        }
      ]
    },
    {
      "cell_type": "code",
      "source": [
        "#Q15-  Create a class Product with attributes name, price, and quantity. Implement a method total_price() that calculates the total price of the product.\n",
        "\n",
        "class Product:\n",
        "    def __init__(self, name, price, quantity):\n",
        "        self.name = name\n",
        "        self.price = price\n",
        "        self.quantity = quantity\n",
        "\n",
        "    def total_price(self):\n",
        "        Total_Price = self.price*self.quantity\n",
        "        return f\"Final Price of {self.name} is {self.price*self.quantity}\"\n",
        "\n",
        "\n",
        "\n",
        "\n"
      ],
      "metadata": {
        "id": "UbSrF9eYRD--"
      },
      "execution_count": 5,
      "outputs": []
    },
    {
      "cell_type": "code",
      "source": [
        "a = Product(\"Hritik\", 45, 15)\n",
        "a.total_price()"
      ],
      "metadata": {
        "colab": {
          "base_uri": "https://localhost:8080/",
          "height": 35
        },
        "id": "YWwEBjWsR-rU",
        "outputId": "6661e44f-7324-42ad-f8e1-6887d2bbd1c5"
      },
      "execution_count": 6,
      "outputs": [
        {
          "output_type": "execute_result",
          "data": {
            "text/plain": [
              "'Final Price of Hritik is 675'"
            ],
            "application/vnd.google.colaboratory.intrinsic+json": {
              "type": "string"
            }
          },
          "metadata": {},
          "execution_count": 6
        }
      ]
    },
    {
      "cell_type": "code",
      "source": [
        "#Q16- . Create a class Animal with an abstract method sound(). Create two derived classes Cow and Sheep that implement the sound() method.\n",
        "\n",
        "import abc\n",
        "class Animal:\n",
        "    @abc.abstractmethod\n",
        "    def sound(self):\n",
        "        pass\n",
        "\n",
        "class Cow(Animal):\n",
        "    def sound(self):\n",
        "        print(\"Cow sound\")\n",
        "\n",
        "class Sheep(Animal):\n",
        "    def sound(self):\n",
        "        print(\"Sheep sound\")\n",
        "\n",
        "\n"
      ],
      "metadata": {
        "id": "qPr257btSGdZ"
      },
      "execution_count": 10,
      "outputs": []
    },
    {
      "cell_type": "code",
      "source": [
        "cw = Cow()\n",
        "cw.sound()\n",
        "\n",
        "sh = Sheep()\n",
        "sh.sound()"
      ],
      "metadata": {
        "colab": {
          "base_uri": "https://localhost:8080/"
        },
        "id": "91Y6ykHiTRyu",
        "outputId": "a72e2811-764d-4049-dcd4-54ce38bd0de5"
      },
      "execution_count": 12,
      "outputs": [
        {
          "output_type": "stream",
          "name": "stdout",
          "text": [
            "Cow sound\n",
            "Sheep sound\n"
          ]
        }
      ]
    },
    {
      "cell_type": "code",
      "source": [
        "#Q17- Create a class Book with attributes title, author, and year_published. Add a method get_book_info() that returns a formatted string with the book's details.\n",
        "\n",
        "class Book:\n",
        "    def __init__(self, title, author, year_published):\n",
        "        self.title = title\n",
        "        self.author = author\n",
        "        self.year_published = year_published\n",
        "\n",
        "    def get_book_info(self):\n",
        "        return f\"{self.title} is published in {self.year_published} by {self.author}\"\n",
        "\n"
      ],
      "metadata": {
        "id": "_0WhdYhOTiA2"
      },
      "execution_count": 15,
      "outputs": []
    },
    {
      "cell_type": "code",
      "source": [
        "obj = Book(\"Eleven Minutes\", \"Paulo Coelho\", 2003)\n",
        "obj.get_book_info()"
      ],
      "metadata": {
        "colab": {
          "base_uri": "https://localhost:8080/",
          "height": 35
        },
        "id": "RB3BA9wRXbfy",
        "outputId": "fbef8316-fcbc-410c-db88-58e5ceb0662c"
      },
      "execution_count": 16,
      "outputs": [
        {
          "output_type": "execute_result",
          "data": {
            "text/plain": [
              "'Eleven Minutes is published in 2003 by Paulo Coelho'"
            ],
            "application/vnd.google.colaboratory.intrinsic+json": {
              "type": "string"
            }
          },
          "metadata": {},
          "execution_count": 16
        }
      ]
    },
    {
      "cell_type": "code",
      "source": [
        "#Q18- Create a class House with attributes address and price. Create a derived class Mansion that adds an attribute number_of_rooms.\n",
        "\n",
        "class House:\n",
        "    def __init__(self, address, price):\n",
        "        self.address = address\n",
        "        self.price = price\n",
        "\n",
        "class Mansion(House):\n",
        "    def __init__(self, address, price, number_of_rooms):\n",
        "        super().__init__(address, price)\n",
        "        self.number_of_rooms = number_of_rooms\n",
        "\n",
        "\n"
      ],
      "metadata": {
        "id": "MxiUM44IX2yZ"
      },
      "execution_count": 17,
      "outputs": []
    },
    {
      "cell_type": "code",
      "source": [
        "obj = Mansion(\"123 America Street\", 6500000, 12)\n",
        "print(\"Address:\",obj.address)\n",
        "print(\"Price: Rs\",obj.price)\n",
        "print(\"Number of rooms:\",obj.number_of_rooms)\n"
      ],
      "metadata": {
        "colab": {
          "base_uri": "https://localhost:8080/"
        },
        "id": "ZQJUmXyxZZaL",
        "outputId": "e9662d24-3f3b-4712-dc1b-64b05b0175d2"
      },
      "execution_count": 22,
      "outputs": [
        {
          "output_type": "stream",
          "name": "stdout",
          "text": [
            "Address: 123 America Street\n",
            "Price: Rs 6500000\n",
            "Number of rooms: 12\n"
          ]
        }
      ]
    },
    {
      "cell_type": "code",
      "source": [],
      "metadata": {
        "id": "5b2vWBaHZyrt"
      },
      "execution_count": null,
      "outputs": []
    }
  ]
}