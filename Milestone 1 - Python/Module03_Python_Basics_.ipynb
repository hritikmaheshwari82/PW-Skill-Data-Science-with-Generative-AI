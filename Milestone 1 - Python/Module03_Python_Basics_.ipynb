{
  "nbformat": 4,
  "nbformat_minor": 0,
  "metadata": {
    "colab": {
      "provenance": []
    },
    "kernelspec": {
      "name": "python3",
      "display_name": "Python 3"
    },
    "language_info": {
      "name": "python"
    }
  },
  "cells": [
    {
      "cell_type": "markdown",
      "source": [
        "# **Python Basics Questions**"
      ],
      "metadata": {
        "id": "wjdojyW8Tock"
      }
    },
    {
      "cell_type": "markdown",
      "source": [
        "**Q1 - What is Python, and why is it popular?**\n",
        "\n",
        "Python is a programming language that is easy to understand and write, making it popular choice among developers and programmers."
      ],
      "metadata": {
        "id": "28Z8ybJsTtbo"
      }
    },
    {
      "cell_type": "markdown",
      "source": [
        "**Q2 - What is an interpreter in Python?**\n",
        "\n",
        "An interpreter in Python is a program that reads and executes code line by line."
      ],
      "metadata": {
        "id": "DRjx3xKgUTkT"
      }
    },
    {
      "cell_type": "markdown",
      "source": [
        "**Q3 -  What are pre-defined keywords in Python?**\n",
        "\n",
        "Python keywords are reserved words that have special meanings and purposes in the Python language. You cannot use them as variable names, function names, or identifiers.\n",
        "\n"
      ],
      "metadata": {
        "id": "PfqWzJMBVMog"
      }
    },
    {
      "cell_type": "markdown",
      "source": [
        "**Q4 -  Can keywords be used as variable names?**\n",
        "\n",
        "No"
      ],
      "metadata": {
        "id": "L7s4XkFGWsAk"
      }
    },
    {
      "cell_type": "markdown",
      "source": [
        "**Q5 - What is mutability in Python?**\n",
        "\n",
        "Mutability in Python means objects can be modified after the creation, such as lists and dictionaries."
      ],
      "metadata": {
        "id": "vbE84m9mXKxk"
      }
    },
    {
      "cell_type": "markdown",
      "source": [
        "**Q6 - Why are lists mutable, but tuples are immutable ?**\n",
        "\n",
        "- Lists are mutable because:\n",
        "\n",
        "Python designed lists to be flexible and allow frequent modifications like:\n",
        "\n",
        "Adding/removing items (append(), pop())\n",
        "\n",
        "Changing values (list[0] = new_value)\n",
        "\n",
        "- Tuples are immutable because:\n",
        "Tuples are meant for fixed data that shouldn't change."
      ],
      "metadata": {
        "id": "Y7HM76l9YVlP"
      }
    },
    {
      "cell_type": "markdown",
      "source": [
        "**Q7 - What is the difference between “==” and “is” operators in Python ?**\n",
        "\n",
        " - \"==\"\n",
        "\n",
        "It checks if two variables have the same value, even if they are stored in different memory locations.\n",
        "\n",
        "-  \"is\"\n",
        "\n",
        "It checks if two variables point to the same object in memory (i.e., same ID)."
      ],
      "metadata": {
        "id": "uEJMeipi-SAn"
      }
    },
    {
      "cell_type": "markdown",
      "source": [
        "**Q8 -  What are logical operators in Python?**\n",
        "\n",
        "Logical operators in Python are used to combine multiple conditions (Boolean expressions) and return True or False based on the logic."
      ],
      "metadata": {
        "id": "R6HLy-ik_tm0"
      }
    },
    {
      "cell_type": "markdown",
      "source": [
        "**Q9 - What is type casting in Python?**\n",
        "\n",
        "Type casting in Python means converting one data type into another manually using built-in functions."
      ],
      "metadata": {
        "id": "tPlSCvMjAhgH"
      }
    },
    {
      "cell_type": "markdown",
      "source": [
        "**Q10- What is the difference between implicit and explicit type casting?**\n",
        "\n",
        "1. Implicit Type Casting (done by Python automatically)\n",
        "Python automatically converts one data type to another when needed.\n",
        "\n",
        "2. Explicit Type Casting (done by the programmer)\n",
        "You manually convert from one type to another using functions."
      ],
      "metadata": {
        "id": "m7o1KSt_A-0T"
      }
    },
    {
      "cell_type": "markdown",
      "source": [
        "**Q11- What is the purpose of conditional statements in Python?**\n",
        "\n",
        "Conditional statements in Python are used to make decisions in your program based on certain conditions. They control the flow of execution by running different blocks of code depending on whether a condition is True or False."
      ],
      "metadata": {
        "id": "bXWliFTRBgtM"
      }
    },
    {
      "cell_type": "markdown",
      "source": [
        "**Q12 - How does the elif statement work?**\n",
        "\n",
        "The elif (short for else if) statement lets you check multiple conditions, one after another, when the initial if condition is False."
      ],
      "metadata": {
        "id": "DFDXHYfBCJCq"
      }
    },
    {
      "cell_type": "markdown",
      "source": [
        "**Q13 - What is the difference between for and while loops?**\n",
        "\n",
        "for Loop – Used when you know how many times you want to loop.\n",
        "\n",
        "while Loop – Used when you don’t know how many times to loop, but you loop until a condition becomes False."
      ],
      "metadata": {
        "id": "GMxc0XKtCtx2"
      }
    },
    {
      "cell_type": "markdown",
      "source": [
        "**Q14 - Describe a scenario where a while loop is more suitable than a for loop.**\n",
        "\n",
        "A while loop is more suitable when you don’t know in advance how many times the loop will run — for example, repeating until the user enters the correct password.You want the program to keep asking the user for a password until they enter the correct one."
      ],
      "metadata": {
        "id": "j1cacbbvDXwy"
      }
    },
    {
      "cell_type": "markdown",
      "source": [
        "# Practical Questions"
      ],
      "metadata": {
        "id": "1BBmoonpMMQR"
      }
    },
    {
      "cell_type": "code",
      "source": [
        "#Q1 - Write a Python program to print \"Hello, World!\"\n",
        "\n",
        "print(\"Hello, World!\")"
      ],
      "metadata": {
        "colab": {
          "base_uri": "https://localhost:8080/"
        },
        "id": "bwHLn7NWOf3w",
        "outputId": "5f3b1472-17c0-466e-8b98-1a930366d39c"
      },
      "execution_count": null,
      "outputs": [
        {
          "output_type": "stream",
          "name": "stdout",
          "text": [
            "Hello, World!\n"
          ]
        }
      ]
    },
    {
      "cell_type": "code",
      "source": [
        "#Q2-  Write a Python program that displays your name and age\n",
        "\n",
        "name = \"Hritik Maheshwari\"\n",
        "age = 24\n",
        "\n",
        "print(f\"My name is {name}\\nI am {age} years old.\")"
      ],
      "metadata": {
        "colab": {
          "base_uri": "https://localhost:8080/"
        },
        "id": "vCVUCEcmO6sV",
        "outputId": "c4ac4a7c-bbc0-4c6e-d58a-fd2c0bfddd59"
      },
      "execution_count": null,
      "outputs": [
        {
          "output_type": "stream",
          "name": "stdout",
          "text": [
            "My name is Hritik Maheshwari\n",
            "I am 24 years old.\n"
          ]
        }
      ]
    },
    {
      "cell_type": "code",
      "source": [
        " #Q3- Write code to print all the pre-defined keywords in Python using the keyword library\n",
        "\n",
        "import keyword\n",
        "\n",
        "keywords = keyword.kwlist\n",
        "for kw in keywords:\n",
        "    print(kw)\n"
      ],
      "metadata": {
        "colab": {
          "base_uri": "https://localhost:8080/"
        },
        "id": "Mwo-7K6iQlyO",
        "outputId": "48e8c6a2-71d7-4793-c22c-b4c163d94121"
      },
      "execution_count": null,
      "outputs": [
        {
          "output_type": "stream",
          "name": "stdout",
          "text": [
            "False\n",
            "None\n",
            "True\n",
            "and\n",
            "as\n",
            "assert\n",
            "async\n",
            "await\n",
            "break\n",
            "class\n",
            "continue\n",
            "def\n",
            "del\n",
            "elif\n",
            "else\n",
            "except\n",
            "finally\n",
            "for\n",
            "from\n",
            "global\n",
            "if\n",
            "import\n",
            "in\n",
            "is\n",
            "lambda\n",
            "nonlocal\n",
            "not\n",
            "or\n",
            "pass\n",
            "raise\n",
            "return\n",
            "try\n",
            "while\n",
            "with\n",
            "yield\n"
          ]
        }
      ]
    },
    {
      "cell_type": "code",
      "source": [
        "#Q4- Write a program that checks if a given word is a Python keyword.\n",
        "\n",
        "import keyword\n",
        "\n",
        "word = input(\"Enter a keyword: \")\n",
        "if keyword.iskeyword(word):\n",
        "    print(f\"{word} is a keyword\")\n",
        "else:\n",
        "    print(f\"{word} is not a keyword\")\n"
      ],
      "metadata": {
        "colab": {
          "base_uri": "https://localhost:8080/"
        },
        "id": "3p2vTDhvR3_Z",
        "outputId": "053dfe0a-56c1-48ea-b82b-d99939772cdf"
      },
      "execution_count": null,
      "outputs": [
        {
          "output_type": "stream",
          "name": "stdout",
          "text": [
            "Enter a keyword: for\n",
            "for is a keyword\n"
          ]
        }
      ]
    },
    {
      "cell_type": "code",
      "source": [
        "#Q5- Create a list and tuple in Python, and demonstrate how attempting to change an element works differently for each.\n",
        "\n",
        "list = [1, 2, 3, 4, 5]\n",
        "print(list)\n",
        "\n",
        "tuple = (1, 2, 3, 4, 5)\n",
        "print(tuple)\n",
        "\n",
        "list[0] = 10\n",
        "print(list)\n",
        "\n",
        "tuple[0] = 10\n",
        "print(tuple)\n"
      ],
      "metadata": {
        "colab": {
          "base_uri": "https://localhost:8080/",
          "height": 245
        },
        "id": "NV2nmrHETonO",
        "outputId": "22a3011e-f562-4a3e-b679-098b07b8f13f"
      },
      "execution_count": null,
      "outputs": [
        {
          "output_type": "stream",
          "name": "stdout",
          "text": [
            "[1, 2, 3, 4, 5]\n",
            "(1, 2, 3, 4, 5)\n",
            "[10, 2, 3, 4, 5]\n"
          ]
        },
        {
          "output_type": "error",
          "ename": "TypeError",
          "evalue": "'tuple' object does not support item assignment",
          "traceback": [
            "\u001b[0;31m---------------------------------------------------------------------------\u001b[0m",
            "\u001b[0;31mTypeError\u001b[0m                                 Traceback (most recent call last)",
            "\u001b[0;32m<ipython-input-5-2336893668>\u001b[0m in \u001b[0;36m<cell line: 0>\u001b[0;34m()\u001b[0m\n\u001b[1;32m     10\u001b[0m \u001b[0mprint\u001b[0m\u001b[0;34m(\u001b[0m\u001b[0mlist\u001b[0m\u001b[0;34m)\u001b[0m\u001b[0;34m\u001b[0m\u001b[0;34m\u001b[0m\u001b[0m\n\u001b[1;32m     11\u001b[0m \u001b[0;34m\u001b[0m\u001b[0m\n\u001b[0;32m---> 12\u001b[0;31m \u001b[0mtuple\u001b[0m\u001b[0;34m[\u001b[0m\u001b[0;36m0\u001b[0m\u001b[0;34m]\u001b[0m \u001b[0;34m=\u001b[0m \u001b[0;36m10\u001b[0m\u001b[0;34m\u001b[0m\u001b[0;34m\u001b[0m\u001b[0m\n\u001b[0m\u001b[1;32m     13\u001b[0m \u001b[0mprint\u001b[0m\u001b[0;34m(\u001b[0m\u001b[0mtuple\u001b[0m\u001b[0;34m)\u001b[0m\u001b[0;34m\u001b[0m\u001b[0;34m\u001b[0m\u001b[0m\n",
            "\u001b[0;31mTypeError\u001b[0m: 'tuple' object does not support item assignment"
          ]
        }
      ]
    },
    {
      "cell_type": "code",
      "source": [
        "#Q6- Write a function to demonstrate the behavior of mutable and immutable arguments.\n",
        "\n",
        "def modify_values(num, my_list):\n",
        "    num += 10                 # Attempt to modify an immutable object (int)\n",
        "    my_list.append(100)       # Modify a mutable object (list)\n",
        "    print(\"Inside function:\")\n",
        "    print(\"num =\", num)\n",
        "    print(\"my_list =\", my_list)\n",
        "\n",
        "# Immutable argument\n",
        "x = 5\n",
        "\n",
        "# Mutable argument\n",
        "lst = [1, 2, 3]\n",
        "\n",
        "# Call the function\n",
        "modify_values(x, lst)\n",
        "\n",
        "print(\"\\nOutside function:\")\n",
        "print(\"x =\", x)               # x will remain unchanged\n",
        "print(\"lst =\", lst)           # lst will be changed\n"
      ],
      "metadata": {
        "colab": {
          "base_uri": "https://localhost:8080/"
        },
        "id": "kEt5SPT6VDW2",
        "outputId": "d40aaf54-16fe-4dd2-df90-bc8f6e85e704"
      },
      "execution_count": null,
      "outputs": [
        {
          "output_type": "stream",
          "name": "stdout",
          "text": [
            "Inside function:\n",
            "num = 15\n",
            "my_list = [1, 2, 3, 100]\n",
            "\n",
            "Outside function:\n",
            "x = 5\n",
            "lst = [1, 2, 3, 100]\n"
          ]
        }
      ]
    },
    {
      "cell_type": "code",
      "source": [
        "#Q7 -  Write a program that performs basic arithmetic operations on two user-input numbers.\n",
        "a = int(input(\"Enter first number: \"))\n",
        "b = int(input(\"Enter second number: \"))\n",
        "\n",
        "print(f\"Addition: {a} + {b} = {a+b}\")\n",
        "print(f\"Subtraction: {a} - {b} = {a-b}\")\n",
        "print(f\"Multiplication: {a} * {b} = {a*b}\")\n"
      ],
      "metadata": {
        "id": "mdLnKjl8brTY",
        "colab": {
          "base_uri": "https://localhost:8080/"
        },
        "outputId": "6a363e27-70a6-4a8c-abaa-d9092f3048f9"
      },
      "execution_count": null,
      "outputs": [
        {
          "output_type": "stream",
          "name": "stdout",
          "text": [
            "Enter first number: 9\n",
            "Enter second number: 5\n",
            "Addition: 9 + 5 = 14\n",
            "Subtraction: 9 - 5 = 4\n",
            "Multiplication: 9 * 5 = 45\n"
          ]
        }
      ]
    },
    {
      "cell_type": "code",
      "source": [
        "#Q8 - Write a program to demonstrate the use of logical operators.\n",
        "\n",
        "a = int(input(\"Enter first number: \"))\n",
        "b = int(input(\"Enter second number: \"))\n",
        "c = int(input(\"Enter third number: \"))\n",
        "\n",
        "result = a > c and b < c\n",
        "print (result)\n",
        "\n",
        "result = a > c or b < c\n",
        "print (result)\n",
        "\n",
        "result = not a > c\n",
        "print (result)\n",
        "\n"
      ],
      "metadata": {
        "colab": {
          "base_uri": "https://localhost:8080/"
        },
        "id": "Geq4BRWyjOF_",
        "outputId": "6e68157e-fb8d-49dd-acda-511f47aa8b09"
      },
      "execution_count": null,
      "outputs": [
        {
          "output_type": "stream",
          "name": "stdout",
          "text": [
            "Enter first number: 5\n",
            "Enter second number: 8\n",
            "Enter third number: 9\n",
            "False\n",
            "True\n",
            "True\n"
          ]
        }
      ]
    },
    {
      "cell_type": "code",
      "source": [
        "#Q9 Write a Python program to convert user input from string to integer, float, and boolean types.\n",
        "\n",
        "string = input(\"Enter any string: \")\n",
        "\n",
        "string1 = int(float(string))\n",
        "print(\"integer:\", string1)\n",
        "\n",
        "string2 = float(string)\n",
        "print(\"float:\", string2)\n",
        "\n",
        "string3 = bool(string)\n",
        "print(\"boolean:\", string3)\n",
        "\n",
        "\n"
      ],
      "metadata": {
        "id": "WSTk9Yj9lynz",
        "colab": {
          "base_uri": "https://localhost:8080/"
        },
        "outputId": "516b2923-a65f-48d3-d1e9-54ca6009e681"
      },
      "execution_count": null,
      "outputs": [
        {
          "output_type": "stream",
          "name": "stdout",
          "text": [
            "Enter any string: 2.3\n",
            "integer: 2\n",
            "float: 2.3\n",
            "boolean: True\n"
          ]
        }
      ]
    },
    {
      "cell_type": "code",
      "source": [
        " #Q10- Write code to demonstrate type casting with list elements.\n",
        "\n",
        "data = [\"10\", \"20\", \"30.5\", \"\", \"0\", \"True\", \"abc\"]\n",
        "\n",
        "int_data = [int(float(x)) if x.replace('.','',1).isdigit() else \"Invalid\" for x in data]\n",
        "float_data = [float(x) if x.replace(\".\", \"\", 1).isdigit() else \"Invalid\" for x in data]\n",
        "boolean_data = [bool(x) for x in data]\n",
        "\n",
        "print(\"Integer\" ,int_data)\n",
        "print(\"Float\" , float_data)\n",
        "print(\"Boolean\" , boolean_data )"
      ],
      "metadata": {
        "id": "YYr5rar4zONV",
        "colab": {
          "base_uri": "https://localhost:8080/"
        },
        "outputId": "413ddec3-7b43-4447-c338-dd9fc5bcde24"
      },
      "execution_count": null,
      "outputs": [
        {
          "output_type": "stream",
          "name": "stdout",
          "text": [
            "Integer [10, 20, 30, 'Invalid', 0, 'Invalid', 'Invalid']\n",
            "Float [10.0, 20.0, 30.5, 'Invalid', 0.0, 'Invalid', 'Invalid']\n",
            "Boolean [True, True, True, False, True, True, True]\n"
          ]
        }
      ]
    },
    {
      "cell_type": "code",
      "source": [
        "#Q11- Write a program that checks if a number is positive, negative, or zero.\n",
        "\n",
        "number = int(input(\"Enter any number: \"))\n",
        "\n",
        "if number > 0 :\n",
        "    print(\"Positive\")\n",
        "elif number < 0 :\n",
        "    print(\"Negative\")\n",
        "else:\n",
        "    print(\"Zero\")"
      ],
      "metadata": {
        "colab": {
          "base_uri": "https://localhost:8080/"
        },
        "id": "l8UIoL2EFFhG",
        "outputId": "da798fdd-1911-415a-f37c-8ec1ba90a120"
      },
      "execution_count": null,
      "outputs": [
        {
          "output_type": "stream",
          "name": "stdout",
          "text": [
            "Enter any number: 0\n",
            "Zero\n"
          ]
        }
      ]
    },
    {
      "cell_type": "code",
      "source": [
        " #Q12- Write a for loop to print numbers from 1 to 10.\n",
        "\n",
        "for i in range(1,11):\n",
        "   print(i,end = \" \")"
      ],
      "metadata": {
        "colab": {
          "base_uri": "https://localhost:8080/"
        },
        "id": "WrL5uaG6GE73",
        "outputId": "6dea15c1-df8e-4f41-d479-5ca7c3b2717c"
      },
      "execution_count": null,
      "outputs": [
        {
          "output_type": "stream",
          "name": "stdout",
          "text": [
            "1 2 3 4 5 6 7 8 9 10 "
          ]
        }
      ]
    },
    {
      "cell_type": "code",
      "source": [
        "#Q13 - Write a Python program to find the sum of all even numbers between 1 and 50.\n",
        "sum = 0\n",
        "for i in range(0,51,2):\n",
        "    sum = sum + i\n",
        "print(sum)"
      ],
      "metadata": {
        "colab": {
          "base_uri": "https://localhost:8080/"
        },
        "id": "lGrAjKauHjXQ",
        "outputId": "d63fc92a-95e0-4ae9-c389-e40edbec792f"
      },
      "execution_count": null,
      "outputs": [
        {
          "output_type": "stream",
          "name": "stdout",
          "text": [
            "650\n"
          ]
        }
      ]
    },
    {
      "cell_type": "code",
      "source": [
        "#Q14 - Write a program to reverse a string using a while loop.\n",
        "\n",
        "str_name = \"Pwskills\"\n",
        "\n",
        "while True:\n",
        "    str_name1 = str_name[::-1]\n",
        "    print(str_name1)\n",
        "    break"
      ],
      "metadata": {
        "colab": {
          "base_uri": "https://localhost:8080/"
        },
        "id": "Lx-_IDnIICEW",
        "outputId": "f431ba91-7892-4d25-81b5-1aec59f95c5f"
      },
      "execution_count": 45,
      "outputs": [
        {
          "output_type": "stream",
          "name": "stdout",
          "text": [
            "sllikswP\n"
          ]
        }
      ]
    },
    {
      "cell_type": "code",
      "source": [
        "#Q15 -  Write a Python program to calculate the factorial of a number provided by the user using a while loop.\n",
        "\n",
        "num = int(input(\"Enter any number: \"))\n",
        "fact = 1\n",
        "i = 1\n",
        "\n",
        "while i<=num:\n",
        "    fact = fact*i\n",
        "    i = i + 1\n",
        "print(fact)"
      ],
      "metadata": {
        "colab": {
          "base_uri": "https://localhost:8080/"
        },
        "id": "8bkk4y1rNnpC",
        "outputId": "d4fd0fbb-cc6f-4858-abd4-6e6f2464e107"
      },
      "execution_count": 48,
      "outputs": [
        {
          "output_type": "stream",
          "name": "stdout",
          "text": [
            "Enter any number: 5\n",
            "120\n"
          ]
        }
      ]
    }
  ]
}
