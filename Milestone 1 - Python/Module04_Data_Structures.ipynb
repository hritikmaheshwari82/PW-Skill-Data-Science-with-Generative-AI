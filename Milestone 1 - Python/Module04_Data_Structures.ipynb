{
  "nbformat": 4,
  "nbformat_minor": 0,
  "metadata": {
    "colab": {
      "provenance": []
    },
    "kernelspec": {
      "name": "python3",
      "display_name": "Python 3"
    },
    "language_info": {
      "name": "python"
    }
  },
  "cells": [
    {
      "cell_type": "markdown",
      "source": [
        "# Data Types and Structures Questions"
      ],
      "metadata": {
        "id": "M_zHJGjDvgYo"
      }
    },
    {
      "cell_type": "markdown",
      "source": [
        "**Q1. What are data structures, and why are they important?**\n",
        "\n",
        "Data structures are ways of organizing and storing data in a computer so it can be accessed and modified efficiently.\n",
        "\n",
        "They are important because they:\n",
        "\n",
        "Optimize data processing and retrieval.\n",
        "\n",
        "Help manage large amounts of data\n",
        "\n",
        "Improve code readability and maintainability\n",
        "\n",
        "\n",
        "**Q2. Explain the difference between mutable and immutable data types with examples.**\n",
        "\n",
        "Mutable: Can be changed after creation.\n",
        "Examples: list, dict, set\n",
        "\n",
        "Immutable: Cannot be changed after creation.\n",
        "Examples: int, float, str, tuple\n",
        "\n",
        "\n",
        "**Q3. What are the main differences between lists and tuples in Python?**\n",
        "\n",
        "Lists:\n",
        "\n",
        "- It can be changed after creation.\n",
        "- Representing syntax []\n",
        "- Slower Performance\n",
        "\n",
        "Tuples:\n",
        "\n",
        "- It cannot be changed after creation.\n",
        "- Representing syntax ()\n",
        "- Faster Performance\n",
        "\n",
        "**Q4. Describe how dictionaries store data.**\n",
        "\n",
        "Dictionaries store data in key-value pairs using a hash table internally.\n",
        "Each key is hashed to find the index in memory where the value is stored.\n",
        "\n",
        "**Q5. Why might you use a set instead of a list in Python?**\n",
        "\n",
        "Use a set when:\n",
        "\n",
        "You need unique elements only\n",
        "\n",
        "You want fast membership testing (in keyword is faster)\n",
        "\n",
        "**Q6. What is a string in Python, and how is it different from a list?**\n",
        "\n",
        "- A string is an immutable sequence of characters.\n",
        "\n",
        "- A list is a mutable sequence of elements (can be of any data type).\n",
        "\n",
        "**Q7. How do tuples ensure data integrity in Python?**\n",
        "\n",
        "Tuples are immutable, so once created, their data cannot be altered, which:\n",
        "\n",
        "- Prevents accidental modification\n",
        "\n",
        "- Makes them suitable for fixed data\n",
        "\n",
        "- Can be used as dictionary keys\n",
        "\n",
        "**Q8. What is a hash table, and how does it relate to dictionaries in Python?**\n",
        "\n",
        "A hash table is a data structure that maps keys to values using a hash function to compute an index.\n",
        "\n",
        "Python dictionaries use hash tables internally for:\n",
        "\n",
        "- Fast access to values\n",
        "\n",
        "- Constant-time complexity for lookups and inserts on average\n",
        "\n",
        "**Q9. Can lists contain different data types in Python?**\n",
        "\n",
        "Yes\n",
        "\n",
        "**Q10. Explain why strings are immutable in Python.**\n",
        "\n",
        "- Improve security (e.g., in password handling)\n",
        "- Optimize performance, since shared strings can be stored only once\n",
        "\n",
        "**Q11. What advantages do dictionaries offer over lists for certain tasks?**\n",
        "\n",
        "- Faster Lookups\n",
        "- Key-value mapping\n",
        "- No need to know the index\n",
        "\n",
        "**Q12. Describe a scenario where using a tuple would be preferable over a list.**\n",
        "\n",
        "Use a tuple when:\n",
        "\n",
        "- You want to ensure data doesn't change\n",
        "- You need a hashable object\n",
        "\n",
        "Example -\n",
        "\n",
        "Location co-ordinates\n",
        "\n",
        "location = (10, 20)  # Should not be changed\n",
        "\n",
        "**Q13. How do sets handle duplicate values in Python?**\n",
        "\n",
        "Sets automatically remove duplicates. Only unique values are stored.\n",
        "\n",
        "- Eg-\n",
        "\n",
        "my_set = {1,1,2,3,3}\n",
        "\n",
        "print(my_set)  # Output- {1,2,3}\n",
        "\n",
        "**Q14. How does the “in” keyword work differently for lists and dictionaries?**\n",
        "\n",
        "- In lists, in checks for presence of a value\n",
        "\n",
        "- In dictionaries, in checks for presence of a key\n",
        "\n",
        "**Q15. Can you modify the elements of a tuple? Explain why or why not.**\n",
        "\n",
        "No, because tuple is immutable. We cannot modify the elemnets after the creation.\n",
        "\n",
        "**Q16. What is a nested dictionary, and give an example of its use case.**\n",
        "\n",
        "A nested dictionary is a dictionary where values are themselves dictionaries.\n",
        "\n",
        "Example - Student data:\n",
        "\n",
        "students = {\n",
        "\n",
        "    \"101\": {\"name\": \"Aman\", \"age\": 20},\n",
        "\n",
        "    \"102\": {\"name\": \"Rohit\", \"age\": 22}\n",
        "}\n",
        "\n",
        "print(students[\"101\"][\"name\"])  # Output: Alice\n",
        "\n",
        "\n",
        "**Q17. Describe the time complexity of accessing elements in a dictionary.**\n",
        "\n",
        "Average case: O(1) (constant time)\n",
        "Worst case: O(n) (rare, due to hash collisions)\n",
        "\n",
        "**Q18. In what situations are lists preferred over dictionaries?**\n",
        "\n",
        "Use lists when:\n",
        "\n",
        "- Order matters\n",
        "\n",
        "- You need to store a sequence of items\n",
        "\n",
        "- There is no need for key-value pairing\n",
        "\n",
        "**Q19. Why are dictionaries considered unordered, and how does that affect data retrieval?**\n",
        "\n",
        "Dictionaries are considered unordered because they don't guarantee a specific order for their elements (key-value pairs) when accessed or iterated through.\n",
        "\n",
        "How Unordered Affects Data Retrieval:\n",
        "\n",
        "- No guaranteed order\n",
        "- No index-based access\n",
        "- Hash table implementation\n",
        "- Key-based access\n",
        "\n",
        "\n",
        "**Q20. Explain the difference between a list and a dictionary in terms of data retrieval. **\n",
        "\n",
        "- List: Access data by index\n",
        "\n",
        "my_list = [\"apple\", \"banana\"]\n",
        "\n",
        "print(my_list[0])  # \"apple\"\n",
        "\n",
        "- Dictionaries: Access data by key.\n",
        "\n",
        "my_dict = {\"fruit\": \"apple\", \"veg\": \"carrot\"}\n",
        "\n",
        "print(my_dict[\"fruit\"])   # \"apple\"\n",
        "\n"
      ],
      "metadata": {
        "id": "4iyppyOoV5Hs"
      }
    },
    {
      "cell_type": "markdown",
      "source": [
        "# Practical Questions"
      ],
      "metadata": {
        "id": "MQO7UhXTvqVZ"
      }
    },
    {
      "cell_type": "code",
      "source": [
        "#Q1- Write a code to create a string with your name and print it.\n",
        "\n",
        "my_name = \"Hritik Maheshwari\"\n",
        "print(my_name)"
      ],
      "metadata": {
        "colab": {
          "base_uri": "https://localhost:8080/"
        },
        "id": "8Apglhg7vv-a",
        "outputId": "fee93ed4-dce6-4e34-c0b2-c46797ff7c74"
      },
      "execution_count": 1,
      "outputs": [
        {
          "output_type": "stream",
          "name": "stdout",
          "text": [
            "Hritik Maheshwari\n"
          ]
        }
      ]
    },
    {
      "cell_type": "code",
      "source": [
        "#Q2- Write a code to find the length of the string \"Hello World\".\n",
        "\n",
        "len(\"Hello World\")"
      ],
      "metadata": {
        "colab": {
          "base_uri": "https://localhost:8080/"
        },
        "id": "j3onFabPwHuT",
        "outputId": "af9311cd-c09b-4e07-cdd2-da680b26ad36"
      },
      "execution_count": 2,
      "outputs": [
        {
          "output_type": "execute_result",
          "data": {
            "text/plain": [
              "11"
            ]
          },
          "metadata": {},
          "execution_count": 2
        }
      ]
    },
    {
      "cell_type": "code",
      "source": [
        "#Q3-  Write a code to slice the first 3 characters from the string \"Python Programming\"\n",
        "\n",
        "str = \"Python Programming\"\n",
        "print(str[:3])"
      ],
      "metadata": {
        "colab": {
          "base_uri": "https://localhost:8080/"
        },
        "id": "AAXorAFmwhSS",
        "outputId": "0bb27e4e-868c-474e-d160-63e1c25e14a4"
      },
      "execution_count": 20,
      "outputs": [
        {
          "output_type": "stream",
          "name": "stdout",
          "text": [
            "Pyt\n"
          ]
        }
      ]
    },
    {
      "cell_type": "code",
      "source": [
        "#Q4-  Write a code to convert the string \"hello\" to uppercase\n",
        "\n",
        "str = \"hello\"\n",
        "str2 = str.upper()\n",
        "print(str2)"
      ],
      "metadata": {
        "colab": {
          "base_uri": "https://localhost:8080/"
        },
        "id": "Hcxliw-Bx_EA",
        "outputId": "65e516d4-121e-4528-9eec-53b796c26359"
      },
      "execution_count": 13,
      "outputs": [
        {
          "output_type": "stream",
          "name": "stdout",
          "text": [
            "HELLO\n"
          ]
        }
      ]
    },
    {
      "cell_type": "code",
      "source": [
        "#Q5- Write a code to replace the word \"apple\" with \"orange\" in the string \"I like apple\"?\n",
        "\n",
        "str = \"I like apple\"\n",
        "str2 = str.replace('apple','orange')\n",
        "print(str2)"
      ],
      "metadata": {
        "colab": {
          "base_uri": "https://localhost:8080/"
        },
        "id": "_xZf3FWc2HKi",
        "outputId": "5c3293f5-af12-438b-ad66-4ec8812e880b"
      },
      "execution_count": 16,
      "outputs": [
        {
          "output_type": "stream",
          "name": "stdout",
          "text": [
            "I like orange\n"
          ]
        }
      ]
    },
    {
      "cell_type": "code",
      "source": [
        "#Q6- Write a code to create a list with numbers 1 to 5 and print it.\n",
        "\n",
        "lst = [1,2,3,4,5]\n",
        "print(lst)"
      ],
      "metadata": {
        "colab": {
          "base_uri": "https://localhost:8080/"
        },
        "id": "ZIZBFMJm3Wi3",
        "outputId": "99109e49-54ec-4d38-9603-594ee1fe7840"
      },
      "execution_count": 17,
      "outputs": [
        {
          "output_type": "stream",
          "name": "stdout",
          "text": [
            "[1, 2, 3, 4, 5]\n"
          ]
        }
      ]
    },
    {
      "cell_type": "code",
      "source": [
        "#Q7- Write a code to append the number 10 to the list [1, 2, 3, 4]\n",
        "\n",
        "lst = [1,2,3,4]\n",
        "lst.append(10)\n",
        "print(lst)"
      ],
      "metadata": {
        "colab": {
          "base_uri": "https://localhost:8080/"
        },
        "id": "1tvhm6ST3DMg",
        "outputId": "cd7c395b-1548-4fec-d5b7-9e94e8583073"
      },
      "execution_count": 18,
      "outputs": [
        {
          "output_type": "stream",
          "name": "stdout",
          "text": [
            "[1, 2, 3, 4, 10]\n"
          ]
        }
      ]
    },
    {
      "cell_type": "code",
      "source": [
        "#Q8-  Write a code to remove the number 3 from the list [1, 2, 3, 4, 5]\n",
        "\n",
        "lst = [1, 2, 3, 4, 5]\n",
        "lst.remove(3)\n",
        "print(lst)"
      ],
      "metadata": {
        "colab": {
          "base_uri": "https://localhost:8080/"
        },
        "id": "mmL6qska7i5I",
        "outputId": "6af73177-bf1a-4fd0-fdd4-1fc53a89c3ec"
      },
      "execution_count": 19,
      "outputs": [
        {
          "output_type": "stream",
          "name": "stdout",
          "text": [
            "[1, 2, 4, 5]\n"
          ]
        }
      ]
    },
    {
      "cell_type": "code",
      "source": [
        "#Q9- Write a code to access the second element in the list ['a', 'b', 'c', 'd']\n",
        "\n",
        "list = ['a', 'b', 'c', 'd']\n",
        "print(list[1])"
      ],
      "metadata": {
        "colab": {
          "base_uri": "https://localhost:8080/"
        },
        "id": "hlsAbben74BU",
        "outputId": "4d1bb542-0dc9-40cd-e394-f1caf9caf65a"
      },
      "execution_count": 21,
      "outputs": [
        {
          "output_type": "stream",
          "name": "stdout",
          "text": [
            "b\n"
          ]
        }
      ]
    },
    {
      "cell_type": "code",
      "source": [
        "#Q10-  Write a code to reverse the list [10, 20, 30, 40, 50].\n",
        "\n",
        "lst = [10, 20, 30, 40, 50]\n",
        "lst_rev =[]\n",
        "for i in range(len(lst)-1,-1,-1):\n",
        "    lst_rev.append(lst[i])\n",
        "print(lst_rev)"
      ],
      "metadata": {
        "colab": {
          "base_uri": "https://localhost:8080/"
        },
        "id": "ByvRdegm8jCi",
        "outputId": "cf78cfaf-ba80-472d-a489-ca15c9721d23"
      },
      "execution_count": 10,
      "outputs": [
        {
          "output_type": "stream",
          "name": "stdout",
          "text": [
            "[50, 40, 30, 20, 10]\n"
          ]
        }
      ]
    },
    {
      "cell_type": "code",
      "source": [
        "#Q11 -  Write a code to create a tuple with the elements 100, 200, 300 and print it.\n",
        "\n",
        "elements = (100,200,300)\n",
        "print(elements)"
      ],
      "metadata": {
        "colab": {
          "base_uri": "https://localhost:8080/"
        },
        "id": "zrMhZ0e5PFX8",
        "outputId": "7ddbb551-44ab-45f2-d348-7eca7232835a"
      },
      "execution_count": 12,
      "outputs": [
        {
          "output_type": "stream",
          "name": "stdout",
          "text": [
            "(100, 200, 300)\n"
          ]
        }
      ]
    },
    {
      "cell_type": "code",
      "source": [
        "#Q12 - Write a code to access the second-to-last element of the tuple ('red', 'green', 'blue', 'yellow').\n",
        "\n",
        "elements = ('red', 'green', 'blue', 'yellow')\n",
        "print(elements[-2])"
      ],
      "metadata": {
        "colab": {
          "base_uri": "https://localhost:8080/"
        },
        "id": "2UhrgHzxUnce",
        "outputId": "f2953988-94c8-4a41-98ab-6aa5b3e5ba45"
      },
      "execution_count": 14,
      "outputs": [
        {
          "output_type": "stream",
          "name": "stdout",
          "text": [
            "blue\n"
          ]
        }
      ]
    },
    {
      "cell_type": "code",
      "source": [
        "#Q13 - Write a code to find the minimum number in the tuple (10, 20, 5, 15).\n",
        "\n",
        "min_num = (10, 20, 5, 15)\n",
        "num = min_num[0]\n",
        "for i in min_num:\n",
        "    if i < num:\n",
        "        num = i\n",
        "print(num)\n",
        "\n"
      ],
      "metadata": {
        "colab": {
          "base_uri": "https://localhost:8080/"
        },
        "id": "8FY5uZL9U4jy",
        "outputId": "60917bed-44ca-42d3-c684-3477fa3f1bff"
      },
      "execution_count": 8,
      "outputs": [
        {
          "output_type": "stream",
          "name": "stdout",
          "text": [
            "5\n"
          ]
        }
      ]
    },
    {
      "cell_type": "code",
      "source": [
        "#Q14 -  Write a code to find the index of the element \"cat\" in the tuple ('dog', 'cat', 'rabbit').\n",
        "\n",
        "animals = ('dog', 'cat', 'rabbit')\n",
        "position = animals.index(\"cat\")\n",
        "print(position)"
      ],
      "metadata": {
        "colab": {
          "base_uri": "https://localhost:8080/"
        },
        "id": "xvuNFwKKnACn",
        "outputId": "bae67499-d869-4aaa-ca78-6b7d40b8941b"
      },
      "execution_count": 13,
      "outputs": [
        {
          "output_type": "stream",
          "name": "stdout",
          "text": [
            "1\n"
          ]
        }
      ]
    },
    {
      "cell_type": "code",
      "source": [
        "#Q15 - Write a code to create a tuple containing three different fruits and check if \"kiwi\" is in it.\n",
        "\n",
        "fruits = (\"apple\", \"mango\", \"kiwi\")\n",
        "if 'kiwi' in fruits:\n",
        "   print(True)\n",
        "else:\n",
        "   print(False)\n",
        "\n"
      ],
      "metadata": {
        "colab": {
          "base_uri": "https://localhost:8080/"
        },
        "id": "eZJs5i1NpF5t",
        "outputId": "c9e7bcda-7a4f-4d1c-9c8c-b54246620a09"
      },
      "execution_count": 25,
      "outputs": [
        {
          "output_type": "stream",
          "name": "stdout",
          "text": [
            "True\n"
          ]
        }
      ]
    },
    {
      "cell_type": "code",
      "source": [
        "#Q16 -  Write a code to create a set with the elements 'a', 'b', 'c' and print it.\n",
        "\n",
        "numbers = {'a', 'b', 'c'}\n",
        "print(numbers)"
      ],
      "metadata": {
        "colab": {
          "base_uri": "https://localhost:8080/"
        },
        "id": "NJtNvzWnqT-M",
        "outputId": "d79870ec-524c-44f0-bf5e-ced350cb90b7"
      },
      "execution_count": 29,
      "outputs": [
        {
          "output_type": "stream",
          "name": "stdout",
          "text": [
            "{'c', 'a', 'b'}\n"
          ]
        }
      ]
    },
    {
      "cell_type": "code",
      "source": [
        "#Q17 -  Write a code to clear all elements from the set {1, 2, 3, 4, 5}.\n",
        "\n",
        "numbers = {1, 2, 3, 4, 5}\n",
        "numbers.clear()\n",
        "print(numbers)"
      ],
      "metadata": {
        "colab": {
          "base_uri": "https://localhost:8080/"
        },
        "id": "Mj5hXlmltDq5",
        "outputId": "a6b48a4b-a89b-444a-fbc8-f873d6e22635"
      },
      "execution_count": 32,
      "outputs": [
        {
          "output_type": "stream",
          "name": "stdout",
          "text": [
            "set()\n"
          ]
        }
      ]
    },
    {
      "cell_type": "code",
      "source": [
        " #Q18- Write a code to remove the element 4 from the set {1, 2, 3, 4}.\n",
        "\n",
        " my_set = {1, 2, 3, 4}\n",
        " my_set.remove(4)\n",
        " print(my_set)"
      ],
      "metadata": {
        "colab": {
          "base_uri": "https://localhost:8080/"
        },
        "id": "sBcOSgZDtfaP",
        "outputId": "1aa93d3a-b511-4780-a8f5-741259a28d81"
      },
      "execution_count": 34,
      "outputs": [
        {
          "output_type": "stream",
          "name": "stdout",
          "text": [
            "{1, 2, 3}\n"
          ]
        }
      ]
    },
    {
      "cell_type": "code",
      "source": [
        "#Q19-  Write a code to find the union of two sets {1, 2, 3} and {3, 4, 5}.\n",
        "\n",
        "set1 = {1,2,3}\n",
        "set2 = {3,4,5}\n",
        "\n",
        "set_final = set1 | set2\n",
        "print(set_final)"
      ],
      "metadata": {
        "colab": {
          "base_uri": "https://localhost:8080/"
        },
        "id": "rdWfVfbwuKw4",
        "outputId": "9feadd62-d770-48b4-80fe-beb37a83e187"
      },
      "execution_count": 35,
      "outputs": [
        {
          "output_type": "stream",
          "name": "stdout",
          "text": [
            "{1, 2, 3, 4, 5}\n"
          ]
        }
      ]
    },
    {
      "cell_type": "code",
      "source": [
        "#Q20-  Write a code to find the intersection of two sets {1, 2, 3} and {2, 3, 4}.\n",
        "\n",
        "set1 = {1,2,3}\n",
        "set2 = {2,3,4}\n",
        "\n",
        "set_final = set1 & set2\n",
        "print(set_final)\n"
      ],
      "metadata": {
        "colab": {
          "base_uri": "https://localhost:8080/"
        },
        "id": "BDi4GwAVulMv",
        "outputId": "10aa286f-a1c0-4a5b-f44d-d2ad045144f2"
      },
      "execution_count": 36,
      "outputs": [
        {
          "output_type": "stream",
          "name": "stdout",
          "text": [
            "{2, 3}\n"
          ]
        }
      ]
    },
    {
      "cell_type": "code",
      "source": [
        "#Q21-  Write a code to create a dictionary with the keys \"name\", \"age\", and \"city\", and print it.\n",
        "\n",
        "info = {\"name\" : \"Hritik\", \"age\" : \"24\", \"city\" : \"Agra\"}\n",
        "print(info)"
      ],
      "metadata": {
        "colab": {
          "base_uri": "https://localhost:8080/"
        },
        "id": "gEILbB-VvD1K",
        "outputId": "8fce6a23-483f-41eb-b37e-6c4ff5e49429"
      },
      "execution_count": 38,
      "outputs": [
        {
          "output_type": "stream",
          "name": "stdout",
          "text": [
            "{'name': 'Hritik', 'age': '24', 'city': 'Agra'}\n"
          ]
        }
      ]
    },
    {
      "cell_type": "code",
      "source": [
        "#Q22- Write a code to add a new key-value pair \"country\": \"USA\" to the dictionary {'name': 'John', 'age': 25}.\n",
        "\n",
        "info = {'name': 'John', 'age': 25}\n",
        "info[\"country\"] = \"USA\"\n",
        "print(info)\n"
      ],
      "metadata": {
        "colab": {
          "base_uri": "https://localhost:8080/"
        },
        "id": "elKMXsbWyizM",
        "outputId": "7e27e027-4151-4281-fb00-99119f479838"
      },
      "execution_count": 40,
      "outputs": [
        {
          "output_type": "stream",
          "name": "stdout",
          "text": [
            "{'name': 'John', 'age': 25, 'country': 'USA'}\n"
          ]
        }
      ]
    },
    {
      "cell_type": "code",
      "source": [
        "#Q23- Write a code to access the value associated with the key \"name\" in the dictionary {'name': 'Alice', 'age': 30}.\n",
        "\n",
        "info = {'name': 'Alice', 'age': 30}\n",
        "info['name']"
      ],
      "metadata": {
        "colab": {
          "base_uri": "https://localhost:8080/",
          "height": 35
        },
        "id": "lOsT5YF2y8XO",
        "outputId": "a229d9f2-1c3d-49ae-9b48-da56f2b54336"
      },
      "execution_count": 41,
      "outputs": [
        {
          "output_type": "execute_result",
          "data": {
            "text/plain": [
              "'Alice'"
            ],
            "application/vnd.google.colaboratory.intrinsic+json": {
              "type": "string"
            }
          },
          "metadata": {},
          "execution_count": 41
        }
      ]
    },
    {
      "cell_type": "code",
      "source": [
        "#Q24- Write a code to remove the key \"age\" from the dictionary {'name': 'Bob', 'age': 22, 'city': 'New York'}\n",
        "\n",
        "info = {'name': 'Bob', 'age': 22, 'city': 'New York'}\n",
        "del info['age']\n",
        "print(info)\n",
        "\n"
      ],
      "metadata": {
        "colab": {
          "base_uri": "https://localhost:8080/"
        },
        "id": "9vFt919-zzki",
        "outputId": "86366c88-fe6c-46b6-add4-ff3c180096de"
      },
      "execution_count": 46,
      "outputs": [
        {
          "output_type": "stream",
          "name": "stdout",
          "text": [
            "{'name': 'Bob', 'city': 'New York'}\n"
          ]
        }
      ]
    },
    {
      "cell_type": "code",
      "source": [
        "#Q25- Write a code to check if the key \"city\" exists in the dictionary {'name': 'Alice', 'city': 'Paris'}.\n",
        "\n",
        "info = {'name': 'Alice', 'city': 'Paris'}\n",
        "if 'city' in info:\n",
        "    print(True)\n",
        "else:\n",
        "    print(False)\n",
        "\n"
      ],
      "metadata": {
        "colab": {
          "base_uri": "https://localhost:8080/"
        },
        "id": "OZsuE4mG0RYd",
        "outputId": "f34f4db4-9e33-45c6-ae76-feb04058ffc8"
      },
      "execution_count": 50,
      "outputs": [
        {
          "output_type": "stream",
          "name": "stdout",
          "text": [
            "False\n"
          ]
        }
      ]
    },
    {
      "cell_type": "code",
      "source": [
        "#Q26- Write a code to create a list, a tuple, and a dictionary, and print them all.\n",
        "\n",
        "\n",
        "my_list = [1, 2, 3, 4, 5]\n",
        "\n",
        "my_tuple = ('apple', 'banana', 'cherry')\n",
        "\n",
        "my_dict = {'name': 'John', 'age': 25, 'city': 'New York'}\n",
        "\n",
        "print(\"List:\", my_list)\n",
        "print(\"Tuple:\", my_tuple)\n",
        "print(\"Dictionary:\", my_dict)\n"
      ],
      "metadata": {
        "colab": {
          "base_uri": "https://localhost:8080/"
        },
        "id": "wvGoAYni1XUq",
        "outputId": "bda0b2a6-a058-42b2-ec4e-226ac439c40f"
      },
      "execution_count": 51,
      "outputs": [
        {
          "output_type": "stream",
          "name": "stdout",
          "text": [
            "List: [1, 2, 3, 4, 5]\n",
            "Tuple: ('apple', 'banana', 'cherry')\n",
            "Dictionary: {'name': 'John', 'age': 25, 'city': 'New York'}\n"
          ]
        }
      ]
    },
    {
      "cell_type": "code",
      "source": [
        "#Q27-  Write a code to create a list of 5 random numbers between 1 and 100, sort it in ascending order, and print the result.(replaced)\n",
        "\n",
        "import random\n",
        "\n",
        "rand_num = [random.randint(1, 100) for _ in range(5)]\n",
        "\n",
        "rand_num.sort()\n",
        "\n",
        "print(rand_num)"
      ],
      "metadata": {
        "colab": {
          "base_uri": "https://localhost:8080/"
        },
        "id": "WbCEQKp03pca",
        "outputId": "2428c4b5-9e90-45b7-b219-746a37355c6f"
      },
      "execution_count": 2,
      "outputs": [
        {
          "output_type": "stream",
          "name": "stdout",
          "text": [
            "[44, 64, 67, 74, 80]\n"
          ]
        }
      ]
    },
    {
      "cell_type": "code",
      "source": [
        "#Q28- Write a code to create a list with strings and print the element at the third index.\n",
        "\n",
        "fruits = [\"apple\",\"mango\",\"kiwi\",\"orange\",\"cherry\"]\n",
        "print(fruits[3])"
      ],
      "metadata": {
        "colab": {
          "base_uri": "https://localhost:8080/"
        },
        "id": "VE8DkkQLHnRb",
        "outputId": "d032061f-4d22-4895-e9f4-13b7091cc5d0"
      },
      "execution_count": 5,
      "outputs": [
        {
          "output_type": "stream",
          "name": "stdout",
          "text": [
            "orange\n"
          ]
        }
      ]
    },
    {
      "cell_type": "code",
      "source": [
        "#Q29- Write a code to combine two dictionaries into one and print the result.\n",
        "\n",
        "dict1 = {\"Name\" : \"Hritik\", \"Age\" : 24}\n",
        "dict2 = {\"Location\" : \"Agra\", \"Gender\" : \"Male\"}\n",
        "dict1.update(dict2)\n",
        "print(dict1)\n"
      ],
      "metadata": {
        "colab": {
          "base_uri": "https://localhost:8080/"
        },
        "id": "sJUojqpjJBie",
        "outputId": "a5628bb2-9308-4835-eb95-bc6cbfbf0f2c"
      },
      "execution_count": 13,
      "outputs": [
        {
          "output_type": "stream",
          "name": "stdout",
          "text": [
            "{'Name': 'Hritik', 'Age': 24, 'Location': 'Agra', 'Gender': 'Male'}\n"
          ]
        }
      ]
    },
    {
      "cell_type": "code",
      "source": [
        "#Q30- Write a code to convert a list of strings into a set.\n",
        "\n",
        "fruits = [\"apple\",\"mango\",\"kiwi\",\"orange\",\"cherry\"]\n",
        "fruits_set = set(fruits)\n",
        "print(fruits_set)"
      ],
      "metadata": {
        "colab": {
          "base_uri": "https://localhost:8080/"
        },
        "id": "DyIqHKdAKgTM",
        "outputId": "3092d2be-7b70-4f8e-91f5-f996e05f8bbd"
      },
      "execution_count": 17,
      "outputs": [
        {
          "output_type": "stream",
          "name": "stdout",
          "text": [
            "{'cherry', 'mango', 'apple', 'kiwi', 'orange'}\n"
          ]
        }
      ]
    },
    {
      "cell_type": "code",
      "source": [],
      "metadata": {
        "id": "2mehjR9zLopr"
      },
      "execution_count": null,
      "outputs": []
    }
  ]
}
