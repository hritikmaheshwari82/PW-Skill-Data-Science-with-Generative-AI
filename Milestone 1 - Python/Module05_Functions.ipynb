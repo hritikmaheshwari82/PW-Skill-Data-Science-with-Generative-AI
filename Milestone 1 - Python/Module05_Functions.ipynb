{
  "nbformat": 4,
  "nbformat_minor": 0,
  "metadata": {
    "colab": {
      "provenance": []
    },
    "kernelspec": {
      "name": "python3",
      "display_name": "Python 3"
    },
    "language_info": {
      "name": "python"
    }
  },
  "cells": [
    {
      "cell_type": "markdown",
      "source": [
        "# Theory Questions"
      ],
      "metadata": {
        "id": "mZxnGC_47KOp"
      }
    },
    {
      "cell_type": "markdown",
      "source": [
        "**Q1. What is the difference between a function and a method in Python?**\n",
        "\n",
        "Function: A block of reusable code defined using the def keyword and called by name.\n",
        "\n",
        "Method: A function that is associated with an object and is called using the dot (.) notation.\n",
        "\n",
        "#Eg-\n",
        "\n",
        "- Function\n",
        "\n",
        "def greet(name):\n",
        "\n",
        "    return \"Hello \" + name\n",
        "\n",
        "print(greet(\"Alice\"))\n",
        "\n",
        "- Method (str object method)\n",
        "\n",
        "message = \"hello\"\n",
        "\n",
        "print(message.upper())\n",
        "\n",
        "-upper() is a method of string object\n",
        "\n",
        "\n",
        "**Q2. Explain the concept of function arguments and parameters in Python.**\n",
        "\n",
        "Parameter: Variable listed inside the parentheses in the function definition.\n",
        "\n",
        "Argument: Actual value passed to the function when calling it.\n",
        "\n",
        "#Eg-\n",
        "\n",
        "def add(x,y)\n",
        "\n",
        "    return x + y (# x and y are parametres)\n",
        "\n",
        "print(add(5,3)) (# 5 and 3 are arguments)\n",
        "\n",
        "\n",
        "**Q3. What are the different ways to define and call a function in Python?**\n",
        "\n",
        "- Using def\n",
        "\n",
        "- Using lambda\n",
        "\n",
        "- Functions can be called with:\n",
        "\n",
        "Positional arguments\n",
        "\n",
        "Keyword arguments\n",
        "\n",
        "*args (variable-length positional)\n",
        "\n",
        "**kwargs (variable-length keyword)\n",
        "\n",
        "#Examples -\n",
        "\n",
        "- Standard definition\n",
        "\n",
        "def greet(name):\n",
        "\n",
        "    return f\"Hi {name}\"\n",
        "\n",
        "print(greet(\"Tom\"))\n",
        "\n",
        "- Lambda function\n",
        "\n",
        "square = lambda x: x * x\n",
        "\n",
        "print(square(4))\n",
        "\n",
        "\n",
        "**Q4. What is the purpose of the `return` statement in a Python function?**\n",
        "\n",
        "It is used to exit the function and optionally send back a value.\n",
        "\n",
        "#Example-\n",
        "\n",
        "def multiply(a, b):\n",
        "    return a * b\n",
        "\n",
        "print(multiply(3,4))\n",
        "\n",
        "\n",
        "**Q5. What are iterators in Python and how do they differ from iterables?**\n",
        "\n",
        "Iterable: An object that can be looped over (like list, tuple, set).\n",
        "\n",
        "Iterator: An object with a __next__() method that returns items one at a time.\n",
        "\n",
        "#Examples-\n",
        "\n",
        "nums = [1, 2, 3]        # Iterable\n",
        "\n",
        "it = iter(nums)         # Iterator created from iterable\n",
        "\n",
        "print(next(it))  # 1\n",
        "\n",
        "print(next(it))  # 2\n",
        "\n",
        "\n",
        "**Q6. Explain the concept of generators in Python and how they are defined.**\n",
        "\n",
        "Generators are functions that yield items one at a time using yield instead of return. They are memory-efficient.\n",
        "\n",
        "#Examples-\n",
        "\n",
        "def countdown(n):\n",
        "\n",
        "    while n > 0:\n",
        "\n",
        "        yield n\n",
        "\n",
        "        n -= 1\n",
        "\n",
        "**Q7. What are the advantages of using generators over regular functions?**\n",
        "\n",
        "Memory-efficient: Generates items one by one.\n",
        "\n",
        "Faster startup: Doesn’t compute everything at once.\n",
        "\n",
        "Useful for large datasets or streams.\n",
        "\n",
        "#Examples-\n",
        "\n",
        "def large_numbers():\n",
        "\n",
        "    for i in range(1000000):\n",
        "\n",
        "        yield i  # yields one value at a time\n",
        "\n",
        "\n",
        "**Q8. What is a lambda function in Python and when is it typically used?**\n",
        "\n",
        "A lambda is an anonymous, one-line function used for simple operations, often in higher-order functions like map() or filter().\n",
        "\n",
        "Syntax: lambda arguments: expression\n",
        "\n",
        "#Examples-\n",
        "\n",
        "- Regular function\n",
        "\n",
        "def square(x):\n",
        "\n",
        "    return x * x\n",
        "\n",
        "- Lambda function\n",
        "\n",
        "square = lambda x: x * x\n",
        "\n",
        "print(square(5))\n",
        "\n",
        "\n",
        "**Q9. Explain the purpose and usage of the `map()` function in Python.**\n",
        "\n",
        "map() applies a function to every item of an iterable and returns a map object (iterator).\n",
        "\n",
        "Syntax: map(function, iterable)\n",
        "\n",
        "#Examples-\n",
        "\n",
        "nums = [1, 2, 3, 4]\n",
        "\n",
        "result = list(map(lambda x: x * 2, nums))\n",
        "\n",
        "print(result)  # [2, 4, 6, 8]\n",
        "\n",
        "**Q10. What is the difference between `map()`, `reduce()`, and `filter()` functions in Python?**\n",
        "\n",
        "1. map()\n",
        "\n",
        "Applies a function to each item in an iterable.\n",
        "\n",
        "2. filter()\n",
        "\n",
        "Applies a function that returns True or False to each item, and keeps only those that return True.\n",
        "\n",
        "3. reduce()\n",
        "\n",
        "Repeatedly applies a function to the items of an iterable, reducing it to a single value.\n",
        "\n",
        "#Examples-\n",
        "\n",
        "from functools import reduce\n",
        "\n",
        "nums = [1, 2, 3, 4, 5]\n",
        "\n",
        "- map: double each number\n",
        "\n",
        "print(list(map(lambda x: x*2, nums)))\n",
        "\n",
        "- filter: keep even numbers\n",
        "\n",
        "print(list(filter(lambda x: x % 2 == 0, nums)))\n",
        "\n",
        "- reduce: compute the product\n",
        "\n",
        "print(reduce(lambda x, y: x * y, nums))  # 120\n",
        "\n",
        "\n",
        "**Q11- Using pen & Paper write the internal mechanism for sum operation using reduce function on this given list:[47,11,42,13]**\n",
        "\n",
        "![alt text here](https://drive.google.com/uc?export=view&id=1kum5skAiq8knJ77csTKlOpHm0ME3hu2Y)\n",
        "\n",
        "\n",
        "\n",
        "\n",
        "\n"
      ],
      "metadata": {
        "id": "kfPCOdAl7skQ"
      }
    },
    {
      "cell_type": "markdown",
      "source": [
        "# Practical Questions"
      ],
      "metadata": {
        "id": "x5XSaxp6EmUn"
      }
    },
    {
      "cell_type": "code",
      "source": [
        " #Q1- Write a Python function that takes a list of numbers as input and returns the sum of all even numbers in the list.\n",
        "\n",
        " def sum_even(n):\n",
        "    s =0\n",
        "    for i in n:\n",
        "        if i%2 == 0:\n",
        "            s = s + i\n",
        "    return s"
      ],
      "metadata": {
        "id": "xB2-CkUAE0nf"
      },
      "execution_count": null,
      "outputs": []
    },
    {
      "cell_type": "code",
      "source": [
        "sum_even([2,1,4,5,6,7,8])"
      ],
      "metadata": {
        "colab": {
          "base_uri": "https://localhost:8080/"
        },
        "id": "B32ObTILGR5_",
        "outputId": "a3dfd337-a302-42c4-c26d-3c9eaf5f7b43"
      },
      "execution_count": null,
      "outputs": [
        {
          "output_type": "execute_result",
          "data": {
            "text/plain": [
              "20"
            ]
          },
          "metadata": {},
          "execution_count": 5
        }
      ]
    },
    {
      "cell_type": "code",
      "source": [
        "#Q2- Create a Python function that accepts a string and returns the reverse of that string.\n",
        "\n",
        "def rev_string(n):\n",
        "    return n[::-1]"
      ],
      "metadata": {
        "id": "bHcShdWYIcP2"
      },
      "execution_count": null,
      "outputs": []
    },
    {
      "cell_type": "code",
      "source": [
        "rev_string(\"Ajay\")"
      ],
      "metadata": {
        "colab": {
          "base_uri": "https://localhost:8080/",
          "height": 35
        },
        "id": "zDY974mkIt_b",
        "outputId": "e1b18f90-1e97-4da7-ff57-bf13b666f331"
      },
      "execution_count": null,
      "outputs": [
        {
          "output_type": "execute_result",
          "data": {
            "text/plain": [
              "'yajA'"
            ],
            "application/vnd.google.colaboratory.intrinsic+json": {
              "type": "string"
            }
          },
          "metadata": {},
          "execution_count": 7
        }
      ]
    },
    {
      "cell_type": "code",
      "source": [
        "#Q3-  Implement a Python function that takes a list of integers and returns a new list containing the squares of each number.\n",
        "\n",
        "def sqaure(n):\n",
        "    l = []\n",
        "    for i in n:\n",
        "        l.append(i**2)\n",
        "    return l"
      ],
      "metadata": {
        "id": "RrHGa2OOIzou"
      },
      "execution_count": null,
      "outputs": []
    },
    {
      "cell_type": "code",
      "source": [
        "num = [1,2,3,4,5]\n",
        "sqaure(num)"
      ],
      "metadata": {
        "colab": {
          "base_uri": "https://localhost:8080/"
        },
        "id": "j8_ExV3TOkon",
        "outputId": "e81aec98-f030-4bfb-d3d0-8d21563632ec"
      },
      "execution_count": null,
      "outputs": [
        {
          "output_type": "execute_result",
          "data": {
            "text/plain": [
              "[1, 4, 9, 16, 25]"
            ]
          },
          "metadata": {},
          "execution_count": 9
        }
      ]
    },
    {
      "cell_type": "code",
      "source": [
        "#Q4 - Write a Python function that checks if a given number is prime or not from 1 to 200.\n",
        "\n",
        "def prime(n):\n",
        "    if n < 2 or n > 200:\n",
        "        return False\n",
        "    for i in range(2, n):\n",
        "        if n%i == 0 :\n",
        "            return False\n",
        "    return True\n"
      ],
      "metadata": {
        "id": "U5mAVaXOOtcT"
      },
      "execution_count": 24,
      "outputs": []
    },
    {
      "cell_type": "code",
      "source": [
        "#Example Usage\n",
        "\n",
        "for numbers in range(1,201):\n",
        "    if prime(numbers):\n",
        "        print(\"Prime Number is:\",numbers)\n",
        "\n",
        "\n",
        "\n"
      ],
      "metadata": {
        "colab": {
          "base_uri": "https://localhost:8080/"
        },
        "id": "PzawtJFmsbkz",
        "outputId": "804cc02e-af91-43b9-add5-77a18d8bfd13"
      },
      "execution_count": 25,
      "outputs": [
        {
          "output_type": "stream",
          "name": "stdout",
          "text": [
            "Prime Number is: 2\n",
            "Prime Number is: 3\n",
            "Prime Number is: 5\n",
            "Prime Number is: 7\n",
            "Prime Number is: 11\n",
            "Prime Number is: 13\n",
            "Prime Number is: 17\n",
            "Prime Number is: 19\n",
            "Prime Number is: 23\n",
            "Prime Number is: 29\n",
            "Prime Number is: 31\n",
            "Prime Number is: 37\n",
            "Prime Number is: 41\n",
            "Prime Number is: 43\n",
            "Prime Number is: 47\n",
            "Prime Number is: 53\n",
            "Prime Number is: 59\n",
            "Prime Number is: 61\n",
            "Prime Number is: 67\n",
            "Prime Number is: 71\n",
            "Prime Number is: 73\n",
            "Prime Number is: 79\n",
            "Prime Number is: 83\n",
            "Prime Number is: 89\n",
            "Prime Number is: 97\n",
            "Prime Number is: 101\n",
            "Prime Number is: 103\n",
            "Prime Number is: 107\n",
            "Prime Number is: 109\n",
            "Prime Number is: 113\n",
            "Prime Number is: 127\n",
            "Prime Number is: 131\n",
            "Prime Number is: 137\n",
            "Prime Number is: 139\n",
            "Prime Number is: 149\n",
            "Prime Number is: 151\n",
            "Prime Number is: 157\n",
            "Prime Number is: 163\n",
            "Prime Number is: 167\n",
            "Prime Number is: 173\n",
            "Prime Number is: 179\n",
            "Prime Number is: 181\n",
            "Prime Number is: 191\n",
            "Prime Number is: 193\n",
            "Prime Number is: 197\n",
            "Prime Number is: 199\n"
          ]
        }
      ]
    },
    {
      "cell_type": "code",
      "source": [
        "#Q5 - Create an iterator class in Python that generates the Fibonacci sequence up to a specified number of terms\n",
        "\n",
        "class Fibonacci:\n",
        "    def __init__(self, max_terms):\n",
        "        self.max_terms = max_terms\n",
        "        self.n1 = 0\n",
        "        self.n2 = 1\n",
        "        self.count = 0\n",
        "\n",
        "    def __iter__(self):\n",
        "        return self  # returns the iterator object itself\n",
        "\n",
        "    def __next__(self):\n",
        "        if self.count >= self.max_terms:\n",
        "            raise StopIteration  # signals the end of iteration\n",
        "        if self.count == 0:\n",
        "            self.count += 1\n",
        "            return self.n1\n",
        "        elif self.count == 1:\n",
        "            self.count += 1\n",
        "            return self.n2\n",
        "        else:\n",
        "            fib = self.n1 + self.n2\n",
        "            self.n1, self.n2 = self.n2, fib\n",
        "            self.count += 1\n",
        "            return fib\n"
      ],
      "metadata": {
        "id": "v78XuLJPdiHJ"
      },
      "execution_count": 36,
      "outputs": []
    },
    {
      "cell_type": "code",
      "source": [
        "for num in Fibonacci(10):\n",
        "    print(num)"
      ],
      "metadata": {
        "colab": {
          "base_uri": "https://localhost:8080/"
        },
        "id": "kgJmkFxIZsZJ",
        "outputId": "09b06d1b-1f1a-4ab5-9f59-c51a41147e4a"
      },
      "execution_count": 37,
      "outputs": [
        {
          "output_type": "stream",
          "name": "stdout",
          "text": [
            "0\n",
            "1\n",
            "1\n",
            "2\n",
            "3\n",
            "5\n",
            "8\n",
            "13\n",
            "21\n",
            "34\n"
          ]
        }
      ]
    },
    {
      "cell_type": "code",
      "source": [
        "#Q6 - Write a generator function in Python that yields the powers of 2 up to a given exponent.\n",
        "\n",
        "def exp(n):\n",
        "    for i in range(n):\n",
        "        yield 2**i\n"
      ],
      "metadata": {
        "id": "RdUjvD8WgTpZ"
      },
      "execution_count": null,
      "outputs": []
    },
    {
      "cell_type": "code",
      "source": [
        "for power in exp(5):\n",
        "    print(power)"
      ],
      "metadata": {
        "id": "VZmULa02hPfV",
        "colab": {
          "base_uri": "https://localhost:8080/"
        },
        "outputId": "1169eca7-9ab8-4799-a158-03864bd245a4"
      },
      "execution_count": null,
      "outputs": [
        {
          "output_type": "stream",
          "name": "stdout",
          "text": [
            "1\n",
            "2\n",
            "4\n",
            "8\n",
            "16\n"
          ]
        }
      ]
    },
    {
      "cell_type": "code",
      "source": [
        "#Q7 -  Implement a generator function that reads a file line by line and yields each line as a string.\n",
        "\n",
        "def str(n):\n",
        "    for i in n:\n",
        "        yield i"
      ],
      "metadata": {
        "id": "0Awu4MwYo2Z9"
      },
      "execution_count": null,
      "outputs": []
    },
    {
      "cell_type": "code",
      "source": [
        "gen = str(\"Aman\")"
      ],
      "metadata": {
        "id": "Mnbmf8AFpThQ"
      },
      "execution_count": null,
      "outputs": []
    },
    {
      "cell_type": "code",
      "source": [
        "next(gen)"
      ],
      "metadata": {
        "colab": {
          "base_uri": "https://localhost:8080/",
          "height": 35
        },
        "id": "ytQ3679rpoxK",
        "outputId": "83ca45a7-e345-4cdc-c2ae-5bf65f10e8bf"
      },
      "execution_count": null,
      "outputs": [
        {
          "output_type": "execute_result",
          "data": {
            "text/plain": [
              "'A'"
            ],
            "application/vnd.google.colaboratory.intrinsic+json": {
              "type": "string"
            }
          },
          "metadata": {},
          "execution_count": 17
        }
      ]
    },
    {
      "cell_type": "code",
      "source": [
        "next(gen)"
      ],
      "metadata": {
        "colab": {
          "base_uri": "https://localhost:8080/",
          "height": 35
        },
        "id": "NJjFjFtlqPbf",
        "outputId": "9445b5e1-156c-4154-e0f8-87c357c28f4f"
      },
      "execution_count": null,
      "outputs": [
        {
          "output_type": "execute_result",
          "data": {
            "text/plain": [
              "'m'"
            ],
            "application/vnd.google.colaboratory.intrinsic+json": {
              "type": "string"
            }
          },
          "metadata": {},
          "execution_count": 18
        }
      ]
    },
    {
      "cell_type": "code",
      "source": [
        "next(gen)"
      ],
      "metadata": {
        "colab": {
          "base_uri": "https://localhost:8080/",
          "height": 35
        },
        "id": "Efy32jsvqRz-",
        "outputId": "39f37a16-2b83-45f0-b7c4-617415adb1ac"
      },
      "execution_count": null,
      "outputs": [
        {
          "output_type": "execute_result",
          "data": {
            "text/plain": [
              "'a'"
            ],
            "application/vnd.google.colaboratory.intrinsic+json": {
              "type": "string"
            }
          },
          "metadata": {},
          "execution_count": 19
        }
      ]
    },
    {
      "cell_type": "code",
      "source": [
        "next(gen)"
      ],
      "metadata": {
        "colab": {
          "base_uri": "https://localhost:8080/",
          "height": 35
        },
        "id": "y38t_CSHqTiT",
        "outputId": "8c614b6e-3934-4901-aa89-dbd2c88e2a35"
      },
      "execution_count": null,
      "outputs": [
        {
          "output_type": "execute_result",
          "data": {
            "text/plain": [
              "'n'"
            ],
            "application/vnd.google.colaboratory.intrinsic+json": {
              "type": "string"
            }
          },
          "metadata": {},
          "execution_count": 20
        }
      ]
    },
    {
      "cell_type": "code",
      "source": [
        "#Q8 - Use a lambda function in Python to sort a list of tuples based on the second element of each tuple.\n",
        "\n",
        "students = [(\"Alice\", 88), (\"Bob\", 95), (\"Charlie\", 70), (\"David\", 90)]\n",
        "\n",
        "sort_list = sorted(students, key = lambda x: x[1])\n",
        "\n",
        "sort_list\n",
        "\n"
      ],
      "metadata": {
        "colab": {
          "base_uri": "https://localhost:8080/"
        },
        "id": "rL_3xDWwqWJT",
        "outputId": "587b7fa2-0b98-45f1-ad78-a2f4be9a4370"
      },
      "execution_count": null,
      "outputs": [
        {
          "output_type": "execute_result",
          "data": {
            "text/plain": [
              "[('Charlie', 70), ('Alice', 88), ('David', 90), ('Bob', 95)]"
            ]
          },
          "metadata": {},
          "execution_count": 94
        }
      ]
    },
    {
      "cell_type": "code",
      "source": [
        "#Q9 - Write a Python program that uses `map()` to convert a list of temperatures from Celsius to Fahrenheit.\n",
        "\n",
        "temp = [22, 31, 45, 16]\n",
        "\n",
        "fh = list(map(lambda x: f\"{(x*9/5+ 32)}F\", temp))\n",
        "\n",
        "print(fh)"
      ],
      "metadata": {
        "colab": {
          "base_uri": "https://localhost:8080/"
        },
        "id": "aJsoW4-X30I0",
        "outputId": "9d65fdb5-37ab-4593-de87-71a97a5bd1ce"
      },
      "execution_count": null,
      "outputs": [
        {
          "output_type": "stream",
          "name": "stdout",
          "text": [
            "['71.6F', '87.8F', '113.0F', '60.8F']\n"
          ]
        }
      ]
    },
    {
      "cell_type": "code",
      "source": [
        "#Q10 - Create a Python program that uses `filter()` to remove all the vowels from a given string.\n",
        "\n",
        "fruit = \"An apple a day\"\n",
        "vowels = \"aeiouAEIOU\"\n",
        "\n",
        "no_vowels= \"\".join(filter(lambda x: x not in vowels, fruit))\n",
        "no_vowels\n",
        "\n"
      ],
      "metadata": {
        "colab": {
          "base_uri": "https://localhost:8080/",
          "height": 35
        },
        "id": "3seEUUgj5UDP",
        "outputId": "224e105b-a98b-4299-8326-c4fa763bacd2"
      },
      "execution_count": null,
      "outputs": [
        {
          "output_type": "execute_result",
          "data": {
            "text/plain": [
              "'n ppl  dy'"
            ],
            "application/vnd.google.colaboratory.intrinsic+json": {
              "type": "string"
            }
          },
          "metadata": {},
          "execution_count": 106
        }
      ]
    },
    {
      "cell_type": "code",
      "source": [
        "#Q11-  Imagine an accounting routine used in a book shop. It works on a list with sublists, which look like this:\n",
        "\n",
        "\n",
        "#| Order Number | Book Title and Author              | Quantity | Price per Item |\n",
        "#| ------------ | ---------------------------------- | -------- | -------------- |\n",
        "#| 34587        | Learning Python, Mark Lutz         | 4        | 40.95          |\n",
        "#| 98762        | Programming Python, Mark Lutz      | 5        | 56.80          |\n",
        "#| 77226        | Head First Python, Paul Barry      | 3        | 32.95          |\n",
        "#| 88112        | Einführung in Python3, Bernd Klein | 3        | 24.99          |\n",
        "\n",
        "#Write a Python program, which returns a list with 2-tuples. Each tuple consists of the order number and the product of the price per item and the quantity. The product should be increased by 10,- € if the value of the order is smaller than 100,00 €.\n",
        "\n",
        "#Write a Python program using lambda and map.\n",
        "\n",
        "\n",
        "orders = [\n",
        "    [34587, \"Learning Python, Mark Lutz\", 4, 40.95],\n",
        "    [98762, \"Programming Python, Mark Lutz\", 5, 56.80],\n",
        "    [77226, \"Head First Python, Paul Barry\", 3, 32.95],\n",
        "    [88112, \"Einführung in Python3, Bernd Klein\", 3, 24.99]\n",
        "]\n",
        "\n",
        "result = list(map(lambda x: (x[0],x[2]*x[3] + 10 if x[2]*x[3] < 100 else x[2]*x[3]) , orders))\n",
        "result\n"
      ],
      "metadata": {
        "colab": {
          "base_uri": "https://localhost:8080/"
        },
        "id": "T35_xKTjHoWw",
        "outputId": "a43a42f7-89b7-4dc2-c694-75bba5dfa9dd"
      },
      "execution_count": null,
      "outputs": [
        {
          "output_type": "execute_result",
          "data": {
            "text/plain": [
              "[(34587, 163.8), (98762, 284.0), (77226, 108.85000000000001), (88112, 84.97)]"
            ]
          },
          "metadata": {},
          "execution_count": 2
        }
      ]
    },
    {
      "cell_type": "code",
      "source": [],
      "metadata": {
        "id": "ENEd1XhcU4PM"
      },
      "execution_count": null,
      "outputs": []
    }
  ]
}
